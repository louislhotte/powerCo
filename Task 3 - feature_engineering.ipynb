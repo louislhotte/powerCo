{
 "cells": [
  {
   "cell_type": "markdown",
   "metadata": {},
   "source": [
    "# Feature Engineering\n",
    "\n",
    "---\n",
    "\n",
    "1. Import packages\n",
    "2. Load data\n",
    "3. Feature engineering\n",
    "\n",
    "---\n",
    "\n",
    "## 1. Import packages"
   ]
  },
  {
   "cell_type": "code",
   "execution_count": 57,
   "metadata": {},
   "outputs": [],
   "source": [
    "import pandas as pd\n",
    "from sklearn.model_selection import train_test_split\n",
    "from sklearn.ensemble import RandomForestClassifier\n",
    "from sklearn.metrics import roc_auc_score\n",
    "from sklearn.utils import class_weight\n",
    "import numpy as np\n",
    "from sklearn.preprocessing import LabelEncoder\n",
    "from sklearn.preprocessing import StandardScaler\n",
    "\n",
    "from sklearn.metrics import roc_curve\n",
    "import plotly.graph_objects as go\n",
    "from sklearn.feature_selection import RFE\n",
    "\n",
    "import plotly.express as px"
   ]
  },
  {
   "cell_type": "markdown",
   "metadata": {},
   "source": [
    "---\n",
    "## 2. Load data"
   ]
  },
  {
   "cell_type": "code",
   "execution_count": 58,
   "metadata": {},
   "outputs": [],
   "source": [
    "df = pd.read_csv('./clean_data_after_eda.csv')\n",
    "df[\"date_activ\"] = pd.to_datetime(df[\"date_activ\"], format='%Y-%m-%d')\n",
    "df[\"date_end\"] = pd.to_datetime(df[\"date_end\"], format='%Y-%m-%d')\n",
    "df[\"date_modif_prod\"] = pd.to_datetime(df[\"date_modif_prod\"], format='%Y-%m-%d')\n",
    "df[\"date_renewal\"] = pd.to_datetime(df[\"date_renewal\"], format='%Y-%m-%d')"
   ]
  },
  {
   "cell_type": "code",
   "execution_count": 59,
   "metadata": {},
   "outputs": [
    {
     "data": {
      "text/html": [
       "<div>\n",
       "<style scoped>\n",
       "    .dataframe tbody tr th:only-of-type {\n",
       "        vertical-align: middle;\n",
       "    }\n",
       "\n",
       "    .dataframe tbody tr th {\n",
       "        vertical-align: top;\n",
       "    }\n",
       "\n",
       "    .dataframe thead th {\n",
       "        text-align: right;\n",
       "    }\n",
       "</style>\n",
       "<table border=\"1\" class=\"dataframe\">\n",
       "  <thead>\n",
       "    <tr style=\"text-align: right;\">\n",
       "      <th></th>\n",
       "      <th>id</th>\n",
       "      <th>channel_sales</th>\n",
       "      <th>cons_12m</th>\n",
       "      <th>cons_gas_12m</th>\n",
       "      <th>cons_last_month</th>\n",
       "      <th>date_activ</th>\n",
       "      <th>date_end</th>\n",
       "      <th>date_modif_prod</th>\n",
       "      <th>date_renewal</th>\n",
       "      <th>forecast_cons_12m</th>\n",
       "      <th>...</th>\n",
       "      <th>var_6m_price_off_peak_var</th>\n",
       "      <th>var_6m_price_peak_var</th>\n",
       "      <th>var_6m_price_mid_peak_var</th>\n",
       "      <th>var_6m_price_off_peak_fix</th>\n",
       "      <th>var_6m_price_peak_fix</th>\n",
       "      <th>var_6m_price_mid_peak_fix</th>\n",
       "      <th>var_6m_price_off_peak</th>\n",
       "      <th>var_6m_price_peak</th>\n",
       "      <th>var_6m_price_mid_peak</th>\n",
       "      <th>churn</th>\n",
       "    </tr>\n",
       "  </thead>\n",
       "  <tbody>\n",
       "    <tr>\n",
       "      <th>0</th>\n",
       "      <td>24011ae4ebbe3035111d65fa7c15bc57</td>\n",
       "      <td>foosdfpfkusacimwkcsosbicdxkicaua</td>\n",
       "      <td>0</td>\n",
       "      <td>54946</td>\n",
       "      <td>0</td>\n",
       "      <td>2013-06-15</td>\n",
       "      <td>2016-06-15</td>\n",
       "      <td>2015-11-01</td>\n",
       "      <td>2015-06-23</td>\n",
       "      <td>0.00</td>\n",
       "      <td>...</td>\n",
       "      <td>0.000131</td>\n",
       "      <td>4.100838e-05</td>\n",
       "      <td>0.000908</td>\n",
       "      <td>2.086294</td>\n",
       "      <td>99.530517</td>\n",
       "      <td>44.235794</td>\n",
       "      <td>2.086425</td>\n",
       "      <td>9.953056e+01</td>\n",
       "      <td>44.236702</td>\n",
       "      <td>1</td>\n",
       "    </tr>\n",
       "    <tr>\n",
       "      <th>1</th>\n",
       "      <td>d29c2c54acc38ff3c0614d0a653813dd</td>\n",
       "      <td>MISSING</td>\n",
       "      <td>4660</td>\n",
       "      <td>0</td>\n",
       "      <td>0</td>\n",
       "      <td>2009-08-21</td>\n",
       "      <td>2016-08-30</td>\n",
       "      <td>2009-08-21</td>\n",
       "      <td>2015-08-31</td>\n",
       "      <td>189.95</td>\n",
       "      <td>...</td>\n",
       "      <td>0.000003</td>\n",
       "      <td>1.217891e-03</td>\n",
       "      <td>0.000000</td>\n",
       "      <td>0.009482</td>\n",
       "      <td>0.000000</td>\n",
       "      <td>0.000000</td>\n",
       "      <td>0.009485</td>\n",
       "      <td>1.217891e-03</td>\n",
       "      <td>0.000000</td>\n",
       "      <td>0</td>\n",
       "    </tr>\n",
       "    <tr>\n",
       "      <th>2</th>\n",
       "      <td>764c75f661154dac3a6c254cd082ea7d</td>\n",
       "      <td>foosdfpfkusacimwkcsosbicdxkicaua</td>\n",
       "      <td>544</td>\n",
       "      <td>0</td>\n",
       "      <td>0</td>\n",
       "      <td>2010-04-16</td>\n",
       "      <td>2016-04-16</td>\n",
       "      <td>2010-04-16</td>\n",
       "      <td>2015-04-17</td>\n",
       "      <td>47.96</td>\n",
       "      <td>...</td>\n",
       "      <td>0.000004</td>\n",
       "      <td>9.450150e-08</td>\n",
       "      <td>0.000000</td>\n",
       "      <td>0.000000</td>\n",
       "      <td>0.000000</td>\n",
       "      <td>0.000000</td>\n",
       "      <td>0.000004</td>\n",
       "      <td>9.450150e-08</td>\n",
       "      <td>0.000000</td>\n",
       "      <td>0</td>\n",
       "    </tr>\n",
       "  </tbody>\n",
       "</table>\n",
       "<p>3 rows × 44 columns</p>\n",
       "</div>"
      ],
      "text/plain": [
       "                                 id                     channel_sales  \\\n",
       "0  24011ae4ebbe3035111d65fa7c15bc57  foosdfpfkusacimwkcsosbicdxkicaua   \n",
       "1  d29c2c54acc38ff3c0614d0a653813dd                           MISSING   \n",
       "2  764c75f661154dac3a6c254cd082ea7d  foosdfpfkusacimwkcsosbicdxkicaua   \n",
       "\n",
       "   cons_12m  cons_gas_12m  cons_last_month date_activ   date_end  \\\n",
       "0         0         54946                0 2013-06-15 2016-06-15   \n",
       "1      4660             0                0 2009-08-21 2016-08-30   \n",
       "2       544             0                0 2010-04-16 2016-04-16   \n",
       "\n",
       "  date_modif_prod date_renewal  forecast_cons_12m  ...  \\\n",
       "0      2015-11-01   2015-06-23               0.00  ...   \n",
       "1      2009-08-21   2015-08-31             189.95  ...   \n",
       "2      2010-04-16   2015-04-17              47.96  ...   \n",
       "\n",
       "   var_6m_price_off_peak_var  var_6m_price_peak_var  \\\n",
       "0                   0.000131           4.100838e-05   \n",
       "1                   0.000003           1.217891e-03   \n",
       "2                   0.000004           9.450150e-08   \n",
       "\n",
       "   var_6m_price_mid_peak_var  var_6m_price_off_peak_fix  \\\n",
       "0                   0.000908                   2.086294   \n",
       "1                   0.000000                   0.009482   \n",
       "2                   0.000000                   0.000000   \n",
       "\n",
       "   var_6m_price_peak_fix  var_6m_price_mid_peak_fix var_6m_price_off_peak  \\\n",
       "0              99.530517                  44.235794              2.086425   \n",
       "1               0.000000                   0.000000              0.009485   \n",
       "2               0.000000                   0.000000              0.000004   \n",
       "\n",
       "   var_6m_price_peak  var_6m_price_mid_peak  churn  \n",
       "0       9.953056e+01              44.236702      1  \n",
       "1       1.217891e-03               0.000000      0  \n",
       "2       9.450150e-08               0.000000      0  \n",
       "\n",
       "[3 rows x 44 columns]"
      ]
     },
     "execution_count": 59,
     "metadata": {},
     "output_type": "execute_result"
    }
   ],
   "source": [
    "df.head(3)"
   ]
  },
  {
   "cell_type": "markdown",
   "metadata": {},
   "source": [
    "---\n",
    "\n",
    "## 3. Feature engineering\n",
    "\n",
    "### Difference between off-peak prices in December and preceding January\n",
    "\n",
    "Below is the code created by your colleague to calculate the feature described above. Use this code to re-create this feature and then think about ways to build on this feature to create features with a higher predictive power."
   ]
  },
  {
   "cell_type": "code",
   "execution_count": 60,
   "metadata": {},
   "outputs": [
    {
     "data": {
      "text/html": [
       "<div>\n",
       "<style scoped>\n",
       "    .dataframe tbody tr th:only-of-type {\n",
       "        vertical-align: middle;\n",
       "    }\n",
       "\n",
       "    .dataframe tbody tr th {\n",
       "        vertical-align: top;\n",
       "    }\n",
       "\n",
       "    .dataframe thead th {\n",
       "        text-align: right;\n",
       "    }\n",
       "</style>\n",
       "<table border=\"1\" class=\"dataframe\">\n",
       "  <thead>\n",
       "    <tr style=\"text-align: right;\">\n",
       "      <th></th>\n",
       "      <th>id</th>\n",
       "      <th>price_date</th>\n",
       "      <th>price_off_peak_var</th>\n",
       "      <th>price_peak_var</th>\n",
       "      <th>price_mid_peak_var</th>\n",
       "      <th>price_off_peak_fix</th>\n",
       "      <th>price_peak_fix</th>\n",
       "      <th>price_mid_peak_fix</th>\n",
       "    </tr>\n",
       "  </thead>\n",
       "  <tbody>\n",
       "    <tr>\n",
       "      <th>0</th>\n",
       "      <td>038af19179925da21a25619c5a24b745</td>\n",
       "      <td>2015-01-01</td>\n",
       "      <td>0.151367</td>\n",
       "      <td>0.0</td>\n",
       "      <td>0.0</td>\n",
       "      <td>44.266931</td>\n",
       "      <td>0.0</td>\n",
       "      <td>0.0</td>\n",
       "    </tr>\n",
       "    <tr>\n",
       "      <th>1</th>\n",
       "      <td>038af19179925da21a25619c5a24b745</td>\n",
       "      <td>2015-02-01</td>\n",
       "      <td>0.151367</td>\n",
       "      <td>0.0</td>\n",
       "      <td>0.0</td>\n",
       "      <td>44.266931</td>\n",
       "      <td>0.0</td>\n",
       "      <td>0.0</td>\n",
       "    </tr>\n",
       "    <tr>\n",
       "      <th>2</th>\n",
       "      <td>038af19179925da21a25619c5a24b745</td>\n",
       "      <td>2015-03-01</td>\n",
       "      <td>0.151367</td>\n",
       "      <td>0.0</td>\n",
       "      <td>0.0</td>\n",
       "      <td>44.266931</td>\n",
       "      <td>0.0</td>\n",
       "      <td>0.0</td>\n",
       "    </tr>\n",
       "    <tr>\n",
       "      <th>3</th>\n",
       "      <td>038af19179925da21a25619c5a24b745</td>\n",
       "      <td>2015-04-01</td>\n",
       "      <td>0.149626</td>\n",
       "      <td>0.0</td>\n",
       "      <td>0.0</td>\n",
       "      <td>44.266931</td>\n",
       "      <td>0.0</td>\n",
       "      <td>0.0</td>\n",
       "    </tr>\n",
       "    <tr>\n",
       "      <th>4</th>\n",
       "      <td>038af19179925da21a25619c5a24b745</td>\n",
       "      <td>2015-05-01</td>\n",
       "      <td>0.149626</td>\n",
       "      <td>0.0</td>\n",
       "      <td>0.0</td>\n",
       "      <td>44.266931</td>\n",
       "      <td>0.0</td>\n",
       "      <td>0.0</td>\n",
       "    </tr>\n",
       "  </tbody>\n",
       "</table>\n",
       "</div>"
      ],
      "text/plain": [
       "                                 id price_date  price_off_peak_var  \\\n",
       "0  038af19179925da21a25619c5a24b745 2015-01-01            0.151367   \n",
       "1  038af19179925da21a25619c5a24b745 2015-02-01            0.151367   \n",
       "2  038af19179925da21a25619c5a24b745 2015-03-01            0.151367   \n",
       "3  038af19179925da21a25619c5a24b745 2015-04-01            0.149626   \n",
       "4  038af19179925da21a25619c5a24b745 2015-05-01            0.149626   \n",
       "\n",
       "   price_peak_var  price_mid_peak_var  price_off_peak_fix  price_peak_fix  \\\n",
       "0             0.0                 0.0           44.266931             0.0   \n",
       "1             0.0                 0.0           44.266931             0.0   \n",
       "2             0.0                 0.0           44.266931             0.0   \n",
       "3             0.0                 0.0           44.266931             0.0   \n",
       "4             0.0                 0.0           44.266931             0.0   \n",
       "\n",
       "   price_mid_peak_fix  \n",
       "0                 0.0  \n",
       "1                 0.0  \n",
       "2                 0.0  \n",
       "3                 0.0  \n",
       "4                 0.0  "
      ]
     },
     "execution_count": 60,
     "metadata": {},
     "output_type": "execute_result"
    }
   ],
   "source": [
    "price_df = pd.read_csv('price_data.csv')\n",
    "price_df[\"price_date\"] = pd.to_datetime(price_df[\"price_date\"], format='%Y-%m-%d')\n",
    "price_df.head()"
   ]
  },
  {
   "cell_type": "code",
   "execution_count": 61,
   "metadata": {},
   "outputs": [
    {
     "data": {
      "text/html": [
       "<div>\n",
       "<style scoped>\n",
       "    .dataframe tbody tr th:only-of-type {\n",
       "        vertical-align: middle;\n",
       "    }\n",
       "\n",
       "    .dataframe tbody tr th {\n",
       "        vertical-align: top;\n",
       "    }\n",
       "\n",
       "    .dataframe thead th {\n",
       "        text-align: right;\n",
       "    }\n",
       "</style>\n",
       "<table border=\"1\" class=\"dataframe\">\n",
       "  <thead>\n",
       "    <tr style=\"text-align: right;\">\n",
       "      <th></th>\n",
       "      <th>id</th>\n",
       "      <th>offpeak_diff_dec_january_energy</th>\n",
       "      <th>offpeak_diff_dec_january_power</th>\n",
       "    </tr>\n",
       "  </thead>\n",
       "  <tbody>\n",
       "    <tr>\n",
       "      <th>0</th>\n",
       "      <td>0002203ffbb812588b632b9e628cc38d</td>\n",
       "      <td>-0.006192</td>\n",
       "      <td>0.162916</td>\n",
       "    </tr>\n",
       "    <tr>\n",
       "      <th>1</th>\n",
       "      <td>0004351ebdd665e6ee664792efc4fd13</td>\n",
       "      <td>-0.004104</td>\n",
       "      <td>0.177779</td>\n",
       "    </tr>\n",
       "    <tr>\n",
       "      <th>2</th>\n",
       "      <td>0010bcc39e42b3c2131ed2ce55246e3c</td>\n",
       "      <td>0.050443</td>\n",
       "      <td>1.500000</td>\n",
       "    </tr>\n",
       "    <tr>\n",
       "      <th>3</th>\n",
       "      <td>0010ee3855fdea87602a5b7aba8e42de</td>\n",
       "      <td>-0.010018</td>\n",
       "      <td>0.162916</td>\n",
       "    </tr>\n",
       "    <tr>\n",
       "      <th>4</th>\n",
       "      <td>00114d74e963e47177db89bc70108537</td>\n",
       "      <td>-0.003994</td>\n",
       "      <td>-0.000001</td>\n",
       "    </tr>\n",
       "  </tbody>\n",
       "</table>\n",
       "</div>"
      ],
      "text/plain": [
       "                                 id  offpeak_diff_dec_january_energy  \\\n",
       "0  0002203ffbb812588b632b9e628cc38d                        -0.006192   \n",
       "1  0004351ebdd665e6ee664792efc4fd13                        -0.004104   \n",
       "2  0010bcc39e42b3c2131ed2ce55246e3c                         0.050443   \n",
       "3  0010ee3855fdea87602a5b7aba8e42de                        -0.010018   \n",
       "4  00114d74e963e47177db89bc70108537                        -0.003994   \n",
       "\n",
       "   offpeak_diff_dec_january_power  \n",
       "0                        0.162916  \n",
       "1                        0.177779  \n",
       "2                        1.500000  \n",
       "3                        0.162916  \n",
       "4                       -0.000001  "
      ]
     },
     "execution_count": 61,
     "metadata": {},
     "output_type": "execute_result"
    }
   ],
   "source": [
    "# Group off-peak prices by companies and month\n",
    "monthly_price_by_id = price_df.groupby(['id', 'price_date']).agg({'price_off_peak_var': 'mean', 'price_off_peak_fix': 'mean'}).reset_index()\n",
    "\n",
    "# Get january and december prices\n",
    "jan_prices = monthly_price_by_id.groupby('id').first().reset_index()\n",
    "dec_prices = monthly_price_by_id.groupby('id').last().reset_index()\n",
    "\n",
    "# Calculate the difference\n",
    "diff = pd.merge(dec_prices.rename(columns={'price_off_peak_var': 'dec_1', 'price_off_peak_fix': 'dec_2'}), jan_prices.drop(columns='price_date'), on='id')\n",
    "diff['offpeak_diff_dec_january_energy'] = diff['dec_1'] - diff['price_off_peak_var']\n",
    "diff['offpeak_diff_dec_january_power'] = diff['dec_2'] - diff['price_off_peak_fix']\n",
    "diff = diff[['id', 'offpeak_diff_dec_january_energy','offpeak_diff_dec_january_power']]\n",
    "diff.head()"
   ]
  },
  {
   "cell_type": "markdown",
   "metadata": {},
   "source": [
    "Now it is time to get creative and to conduct some of your own feature engineering! Have fun with it, explore different ideas and try to create as many as yo can!"
   ]
  },
  {
   "cell_type": "code",
   "execution_count": 62,
   "metadata": {},
   "outputs": [
    {
     "name": "stdout",
     "output_type": "stream",
     "text": [
      "<class 'pandas.core.frame.DataFrame'>\n",
      "RangeIndex: 14606 entries, 0 to 14605\n",
      "Data columns (total 44 columns):\n",
      " #   Column                          Non-Null Count  Dtype         \n",
      "---  ------                          --------------  -----         \n",
      " 0   id                              14606 non-null  object        \n",
      " 1   channel_sales                   14606 non-null  object        \n",
      " 2   cons_12m                        14606 non-null  int64         \n",
      " 3   cons_gas_12m                    14606 non-null  int64         \n",
      " 4   cons_last_month                 14606 non-null  int64         \n",
      " 5   date_activ                      14606 non-null  datetime64[ns]\n",
      " 6   date_end                        14606 non-null  datetime64[ns]\n",
      " 7   date_modif_prod                 14606 non-null  datetime64[ns]\n",
      " 8   date_renewal                    14606 non-null  datetime64[ns]\n",
      " 9   forecast_cons_12m               14606 non-null  float64       \n",
      " 10  forecast_cons_year              14606 non-null  int64         \n",
      " 11  forecast_discount_energy        14606 non-null  float64       \n",
      " 12  forecast_meter_rent_12m         14606 non-null  float64       \n",
      " 13  forecast_price_energy_off_peak  14606 non-null  float64       \n",
      " 14  forecast_price_energy_peak      14606 non-null  float64       \n",
      " 15  forecast_price_pow_off_peak     14606 non-null  float64       \n",
      " 16  has_gas                         14606 non-null  object        \n",
      " 17  imp_cons                        14606 non-null  float64       \n",
      " 18  margin_gross_pow_ele            14606 non-null  float64       \n",
      " 19  margin_net_pow_ele              14606 non-null  float64       \n",
      " 20  nb_prod_act                     14606 non-null  int64         \n",
      " 21  net_margin                      14606 non-null  float64       \n",
      " 22  num_years_antig                 14606 non-null  int64         \n",
      " 23  origin_up                       14606 non-null  object        \n",
      " 24  pow_max                         14606 non-null  float64       \n",
      " 25  var_year_price_off_peak_var     14606 non-null  float64       \n",
      " 26  var_year_price_peak_var         14606 non-null  float64       \n",
      " 27  var_year_price_mid_peak_var     14606 non-null  float64       \n",
      " 28  var_year_price_off_peak_fix     14606 non-null  float64       \n",
      " 29  var_year_price_peak_fix         14606 non-null  float64       \n",
      " 30  var_year_price_mid_peak_fix     14606 non-null  float64       \n",
      " 31  var_year_price_off_peak         14606 non-null  float64       \n",
      " 32  var_year_price_peak             14606 non-null  float64       \n",
      " 33  var_year_price_mid_peak         14606 non-null  float64       \n",
      " 34  var_6m_price_off_peak_var       14606 non-null  float64       \n",
      " 35  var_6m_price_peak_var           14606 non-null  float64       \n",
      " 36  var_6m_price_mid_peak_var       14606 non-null  float64       \n",
      " 37  var_6m_price_off_peak_fix       14606 non-null  float64       \n",
      " 38  var_6m_price_peak_fix           14606 non-null  float64       \n",
      " 39  var_6m_price_mid_peak_fix       14606 non-null  float64       \n",
      " 40  var_6m_price_off_peak           14606 non-null  float64       \n",
      " 41  var_6m_price_peak               14606 non-null  float64       \n",
      " 42  var_6m_price_mid_peak           14606 non-null  float64       \n",
      " 43  churn                           14606 non-null  int64         \n",
      "dtypes: datetime64[ns](4), float64(29), int64(7), object(4)\n",
      "memory usage: 4.9+ MB\n"
     ]
    }
   ],
   "source": [
    "df.info()"
   ]
  },
  {
   "cell_type": "markdown",
   "metadata": {},
   "source": [
    "<div class='alert alert-bloc alert-info'>\n",
    "Besides price diff between december and january at peak, we could look at <b>variations</b> of mid peaks too to complete the analysis.<br>\n",
    "Also, we could try to calculate the <b>margin divided by consommation</b>. If the ratio is too high, then perhaps we make too much margin on this customer as opposed to competitors. Tihs makes sense as well since we have seen in the EDA part that churn and margins were correlated (though it did not account for client type or size).<br>\n",
    "Lastly, it woudl be interesting to compare cons_12m and cons_last month. If the mean of the past twelve months is much higher than the consommation last month, then maybe it is a sign that the customer attempts to reduce his consommation and change supplier. We could create several features (like is it slightly higher, meaning a ratio of 1:1.1 or much higher like a ratio of 1:2). These would be <b>binary features</b>. If it is a seasonal effect, then it would not have much predictive power (since all would be 1). If it is not, then it might be a good indicator of customer habits change.\n",
    "</div>"
   ]
  },
  {
   "cell_type": "code",
   "execution_count": 63,
   "metadata": {},
   "outputs": [],
   "source": [
    "df_results = pd.merge(df, diff, how='left', on='id')\n",
    "# df_results.info()"
   ]
  },
  {
   "cell_type": "markdown",
   "metadata": {},
   "source": [
    "---\n",
    "\n",
    "### Variations mid peak"
   ]
  },
  {
   "cell_type": "code",
   "execution_count": 64,
   "metadata": {},
   "outputs": [
    {
     "data": {
      "text/html": [
       "<div>\n",
       "<style scoped>\n",
       "    .dataframe tbody tr th:only-of-type {\n",
       "        vertical-align: middle;\n",
       "    }\n",
       "\n",
       "    .dataframe tbody tr th {\n",
       "        vertical-align: top;\n",
       "    }\n",
       "\n",
       "    .dataframe thead th {\n",
       "        text-align: right;\n",
       "    }\n",
       "</style>\n",
       "<table border=\"1\" class=\"dataframe\">\n",
       "  <thead>\n",
       "    <tr style=\"text-align: right;\">\n",
       "      <th></th>\n",
       "      <th>id</th>\n",
       "      <th>price_date</th>\n",
       "      <th>price_off_peak_var</th>\n",
       "      <th>price_peak_var</th>\n",
       "      <th>price_mid_peak_var</th>\n",
       "      <th>price_off_peak_fix</th>\n",
       "      <th>price_peak_fix</th>\n",
       "      <th>price_mid_peak_fix</th>\n",
       "    </tr>\n",
       "  </thead>\n",
       "  <tbody>\n",
       "    <tr>\n",
       "      <th>0</th>\n",
       "      <td>038af19179925da21a25619c5a24b745</td>\n",
       "      <td>2015-01-01</td>\n",
       "      <td>0.151367</td>\n",
       "      <td>0.0</td>\n",
       "      <td>0.0</td>\n",
       "      <td>44.266931</td>\n",
       "      <td>0.0</td>\n",
       "      <td>0.0</td>\n",
       "    </tr>\n",
       "    <tr>\n",
       "      <th>1</th>\n",
       "      <td>038af19179925da21a25619c5a24b745</td>\n",
       "      <td>2015-02-01</td>\n",
       "      <td>0.151367</td>\n",
       "      <td>0.0</td>\n",
       "      <td>0.0</td>\n",
       "      <td>44.266931</td>\n",
       "      <td>0.0</td>\n",
       "      <td>0.0</td>\n",
       "    </tr>\n",
       "  </tbody>\n",
       "</table>\n",
       "</div>"
      ],
      "text/plain": [
       "                                 id price_date  price_off_peak_var  \\\n",
       "0  038af19179925da21a25619c5a24b745 2015-01-01            0.151367   \n",
       "1  038af19179925da21a25619c5a24b745 2015-02-01            0.151367   \n",
       "\n",
       "   price_peak_var  price_mid_peak_var  price_off_peak_fix  price_peak_fix  \\\n",
       "0             0.0                 0.0           44.266931             0.0   \n",
       "1             0.0                 0.0           44.266931             0.0   \n",
       "\n",
       "   price_mid_peak_fix  \n",
       "0                 0.0  \n",
       "1                 0.0  "
      ]
     },
     "execution_count": 64,
     "metadata": {},
     "output_type": "execute_result"
    }
   ],
   "source": [
    "price_df.head(2)"
   ]
  },
  {
   "cell_type": "code",
   "execution_count": 65,
   "metadata": {},
   "outputs": [],
   "source": [
    "# Group mid-peak prices by companies and month\n",
    "monthly_mid_price_by_id = price_df.groupby(['id', 'price_date']).agg({'price_mid_peak_var': 'mean', 'price_mid_peak_fix': 'mean'}).reset_index()\n",
    "\n",
    "# Get january and december prices\n",
    "jan_prices = monthly_mid_price_by_id.groupby('id').first().reset_index()\n",
    "dec_prices = monthly_mid_price_by_id.groupby('id').last().reset_index()\n",
    "\n",
    "# Calculate the difference\n",
    "diff = pd.merge(dec_prices.rename(columns={'price_mid_peak_var': 'dec_1', 'price_mid_peak_fix': 'dec_2'}), jan_prices.drop(columns='price_date'), on='id')\n",
    "diff['midpeak_diff_dec_january_energy'] = diff['dec_1'] - diff['price_mid_peak_var']\n",
    "diff['midpeak_diff_dec_january_power'] = diff['dec_2'] - diff['price_mid_peak_fix']\n",
    "diff = diff[['id', 'midpeak_diff_dec_january_energy','midpeak_diff_dec_january_power']]\n",
    "# diff.head()"
   ]
  },
  {
   "cell_type": "code",
   "execution_count": 66,
   "metadata": {},
   "outputs": [],
   "source": [
    "df_results = pd.merge(df_results, diff, how='left', on='id')\n",
    "# df_results.info()"
   ]
  },
  {
   "cell_type": "markdown",
   "metadata": {},
   "source": [
    "---\n",
    "\n",
    "### Ratio margin_gross_pow_ele / cons_last_month"
   ]
  },
  {
   "cell_type": "code",
   "execution_count": 67,
   "metadata": {},
   "outputs": [
    {
     "name": "stdout",
     "output_type": "stream",
     "text": [
      "Index(['id', 'channel_sales', 'cons_12m', 'cons_gas_12m', 'cons_last_month',\n",
      "       'date_activ', 'date_end', 'date_modif_prod', 'date_renewal',\n",
      "       'forecast_cons_12m', 'forecast_cons_year', 'forecast_discount_energy',\n",
      "       'forecast_meter_rent_12m', 'forecast_price_energy_off_peak',\n",
      "       'forecast_price_energy_peak', 'forecast_price_pow_off_peak', 'has_gas',\n",
      "       'imp_cons', 'margin_gross_pow_ele', 'margin_net_pow_ele', 'nb_prod_act',\n",
      "       'net_margin', 'num_years_antig', 'origin_up', 'pow_max',\n",
      "       'var_year_price_off_peak_var', 'var_year_price_peak_var',\n",
      "       'var_year_price_mid_peak_var', 'var_year_price_off_peak_fix',\n",
      "       'var_year_price_peak_fix', 'var_year_price_mid_peak_fix',\n",
      "       'var_year_price_off_peak', 'var_year_price_peak',\n",
      "       'var_year_price_mid_peak', 'var_6m_price_off_peak_var',\n",
      "       'var_6m_price_peak_var', 'var_6m_price_mid_peak_var',\n",
      "       'var_6m_price_off_peak_fix', 'var_6m_price_peak_fix',\n",
      "       'var_6m_price_mid_peak_fix', 'var_6m_price_off_peak',\n",
      "       'var_6m_price_peak', 'var_6m_price_mid_peak', 'churn'],\n",
      "      dtype='object')\n"
     ]
    }
   ],
   "source": [
    "print(df.columns)"
   ]
  },
  {
   "cell_type": "code",
   "execution_count": 68,
   "metadata": {},
   "outputs": [],
   "source": [
    "df_results['Ratio_margin_per_cons'] = df_results['margin_gross_pow_ele'] / df_results['cons_last_month']\n",
    "df_results['Ratio_margin_per_cons'] = df_results['Ratio_margin_per_cons'].fillna(0)"
   ]
  },
  {
   "cell_type": "markdown",
   "metadata": {},
   "source": [
    "---\n",
    "\n",
    "### Trends of energy consumption variations"
   ]
  },
  {
   "cell_type": "markdown",
   "metadata": {},
   "source": [
    "<div class='alert alert-bloc alert-info'> As precised in the earlier bloc, we will create three binary features allowing us to compare the consumption of power in the last month with the consumption of power in the last twelve months.<br>\n",
    "We will thus create three binary features which will be: <b>cons_last_month > ratio * cons_12m</b> with ratio being equal to 1.25, 1.5 and 2 respectively.<br>\n",
    "Alertnately, we could have just created the feature cons_ratio which would have been cons_last_month / cons_12m, but due to the large variability of consumption, I prioritized binary features to keep interpretability, robusteness to outliers, and non-linear patterns. I am aware that those ratio might have to be tuned with the help of experts to define them more rigorously though.</div>"
   ]
  },
  {
   "cell_type": "code",
   "execution_count": 69,
   "metadata": {},
   "outputs": [],
   "source": [
    "# RATIO VARIBALES\n",
    "RATIO_1 = 1.25 / 12\n",
    "RATIO_2 = 1.5 / 12\n",
    "RATIO_3 = 2.0 / 12"
   ]
  },
  {
   "cell_type": "code",
   "execution_count": 70,
   "metadata": {},
   "outputs": [],
   "source": [
    "df_results['Ratio_pow_1'] = df_results['cons_last_month'] > RATIO_1 * df_results['cons_12m']\n",
    "df_results['Ratio_pow_2'] = df_results['cons_last_month'] > RATIO_2 * df_results['cons_12m']\n",
    "df_results['Ratio_pow_3'] = df_results['cons_last_month'] > RATIO_3 * df_results['cons_12m']"
   ]
  },
  {
   "cell_type": "code",
   "execution_count": 71,
   "metadata": {},
   "outputs": [],
   "source": [
    "# Type fixing\n",
    "df_results['Ratio_pow_1'] = df_results['Ratio_pow_1'].astype(int)\n",
    "df_results['Ratio_pow_2'] = df_results['Ratio_pow_2'].astype(int)\n",
    "df_results['Ratio_pow_3'] = df_results['Ratio_pow_3'].astype(int)"
   ]
  },
  {
   "cell_type": "markdown",
   "metadata": {},
   "source": [
    "---\n",
    "### Cleaning"
   ]
  },
  {
   "cell_type": "code",
   "execution_count": 72,
   "metadata": {},
   "outputs": [
    {
     "name": "stderr",
     "output_type": "stream",
     "text": [
      "C:\\Users\\Louis\\AppData\\Local\\Temp\\ipykernel_3220\\2229628116.py:35: FutureWarning:\n",
      "\n",
      "Downcasting behavior in `replace` is deprecated and will be removed in a future version. To retain the old behavior, explicitly call `result.infer_objects(copy=False)`. To opt-in to the future behavior, set `pd.set_option('future.no_silent_downcasting', True)`\n",
      "\n"
     ]
    },
    {
     "data": {
      "text/html": [
       "<div>\n",
       "<style scoped>\n",
       "    .dataframe tbody tr th:only-of-type {\n",
       "        vertical-align: middle;\n",
       "    }\n",
       "\n",
       "    .dataframe tbody tr th {\n",
       "        vertical-align: top;\n",
       "    }\n",
       "\n",
       "    .dataframe thead th {\n",
       "        text-align: right;\n",
       "    }\n",
       "</style>\n",
       "<table border=\"1\" class=\"dataframe\">\n",
       "  <thead>\n",
       "    <tr style=\"text-align: right;\">\n",
       "      <th></th>\n",
       "      <th>id</th>\n",
       "      <th>cons_12m</th>\n",
       "      <th>cons_gas_12m</th>\n",
       "      <th>cons_last_month</th>\n",
       "      <th>forecast_cons_12m</th>\n",
       "      <th>forecast_cons_year</th>\n",
       "      <th>forecast_discount_energy</th>\n",
       "      <th>forecast_meter_rent_12m</th>\n",
       "      <th>forecast_price_energy_off_peak</th>\n",
       "      <th>forecast_price_energy_peak</th>\n",
       "      <th>...</th>\n",
       "      <th>ou__usapbepcfoloekilkwsdiboslwaxobdp</th>\n",
       "      <th>activ_year</th>\n",
       "      <th>acitv_month</th>\n",
       "      <th>activ_day</th>\n",
       "      <th>end_year</th>\n",
       "      <th>end_month</th>\n",
       "      <th>end_day</th>\n",
       "      <th>renewal_year</th>\n",
       "      <th>renewal_month</th>\n",
       "      <th>renewal_day</th>\n",
       "    </tr>\n",
       "  </thead>\n",
       "  <tbody>\n",
       "    <tr>\n",
       "      <th>0</th>\n",
       "      <td>24011ae4ebbe3035111d65fa7c15bc57</td>\n",
       "      <td>0</td>\n",
       "      <td>54946</td>\n",
       "      <td>0</td>\n",
       "      <td>0.00</td>\n",
       "      <td>0</td>\n",
       "      <td>0.0</td>\n",
       "      <td>1.78</td>\n",
       "      <td>0.114481</td>\n",
       "      <td>0.098142</td>\n",
       "      <td>...</td>\n",
       "      <td>0</td>\n",
       "      <td>2013</td>\n",
       "      <td>6</td>\n",
       "      <td>15</td>\n",
       "      <td>2016</td>\n",
       "      <td>6</td>\n",
       "      <td>15</td>\n",
       "      <td>2015</td>\n",
       "      <td>6</td>\n",
       "      <td>23</td>\n",
       "    </tr>\n",
       "    <tr>\n",
       "      <th>1</th>\n",
       "      <td>d29c2c54acc38ff3c0614d0a653813dd</td>\n",
       "      <td>4660</td>\n",
       "      <td>0</td>\n",
       "      <td>0</td>\n",
       "      <td>189.95</td>\n",
       "      <td>0</td>\n",
       "      <td>0.0</td>\n",
       "      <td>16.27</td>\n",
       "      <td>0.145711</td>\n",
       "      <td>0.000000</td>\n",
       "      <td>...</td>\n",
       "      <td>0</td>\n",
       "      <td>2009</td>\n",
       "      <td>8</td>\n",
       "      <td>21</td>\n",
       "      <td>2016</td>\n",
       "      <td>8</td>\n",
       "      <td>30</td>\n",
       "      <td>2015</td>\n",
       "      <td>8</td>\n",
       "      <td>31</td>\n",
       "    </tr>\n",
       "  </tbody>\n",
       "</table>\n",
       "<p>2 rows × 67 columns</p>\n",
       "</div>"
      ],
      "text/plain": [
       "                                 id  cons_12m  cons_gas_12m  cons_last_month  \\\n",
       "0  24011ae4ebbe3035111d65fa7c15bc57         0         54946                0   \n",
       "1  d29c2c54acc38ff3c0614d0a653813dd      4660             0                0   \n",
       "\n",
       "   forecast_cons_12m  forecast_cons_year  forecast_discount_energy  \\\n",
       "0               0.00                   0                       0.0   \n",
       "1             189.95                   0                       0.0   \n",
       "\n",
       "   forecast_meter_rent_12m  forecast_price_energy_off_peak  \\\n",
       "0                     1.78                        0.114481   \n",
       "1                    16.27                        0.145711   \n",
       "\n",
       "   forecast_price_energy_peak  ...  ou__usapbepcfoloekilkwsdiboslwaxobdp  \\\n",
       "0                    0.098142  ...                                     0   \n",
       "1                    0.000000  ...                                     0   \n",
       "\n",
       "   activ_year  acitv_month  activ_day  end_year  end_month  end_day  \\\n",
       "0        2013            6         15      2016          6       15   \n",
       "1        2009            8         21      2016          8       30   \n",
       "\n",
       "   renewal_year  renewal_month  renewal_day  \n",
       "0          2015              6           23  \n",
       "1          2015              8           31  \n",
       "\n",
       "[2 rows x 67 columns]"
      ]
     },
     "execution_count": 72,
     "metadata": {},
     "output_type": "execute_result"
    }
   ],
   "source": [
    "df_results['Ratio_margin_per_cons'] = df_results['Ratio_margin_per_cons'].replace(float('inf'), 0)\n",
    "df_results = pd.get_dummies(\n",
    "    df_results,\n",
    "    columns=['channel_sales'],       # la colonne à encoder\n",
    "    prefix='cs_',          # préfixe pour les nouvelles colonnes\n",
    "    drop_first=True,              # True pour éviter la colinéarité (k-1 colonnes)\n",
    "    dtype=int\n",
    ")\n",
    "\n",
    "df_results = pd.get_dummies(\n",
    "    df_results,\n",
    "    columns=['origin_up'],       # la colonne à encoder\n",
    "    prefix='ou_',          # préfixe pour les nouvelles colonnes\n",
    "    drop_first=True,              # True pour éviter la colinéarité (k-1 colonnes)\n",
    "    dtype=int\n",
    ")\n",
    "\n",
    "df_results['date_activ'] = pd.to_datetime(df_results['date_activ'], format='%Y-%m-%d')\n",
    "df_results['activ_year']  = df_results['date_activ'].dt.year\n",
    "df_results['acitv_month'] = df_results['date_activ'].dt.month\n",
    "df_results['activ_day']   = df_results['date_activ'].dt.day\n",
    "\n",
    "df_results['date_end'] = pd.to_datetime(df_results['date_end'], format='%Y-%m-%d')\n",
    "df_results['end_year']  = df_results['date_end'].dt.year\n",
    "df_results['end_month'] = df_results['date_end'].dt.month\n",
    "df_results['end_day']   = df_results['date_end'].dt.day\n",
    "\n",
    "df_results['date_renewal'] = pd.to_datetime(df_results['date_renewal'], format='%Y-%m-%d')\n",
    "df_results['renewal_year']  = df_results['date_renewal'].dt.year\n",
    "df_results['renewal_month'] = df_results['date_renewal'].dt.month\n",
    "df_results['renewal_day']   = df_results['date_renewal'].dt.day\n",
    "\n",
    "df_results = df_results.drop(columns=['date_activ', 'date_end', 'date_modif_prod', 'date_renewal'])\n",
    "\n",
    "df_results['has_gas'] = df_results['has_gas'].replace({'t': 1, 'f': 0})\n",
    "\n",
    "df_results.head(2)"
   ]
  },
  {
   "cell_type": "markdown",
   "metadata": {},
   "source": [
    "<div class='alert alert-bloc alert-danger'>To exploit the data, we will need to remove the id columns. As for the non-integer columns, we need label encode them. Since we do not want to introduce an order relation in the channel sales, I will use <b>one-hot-encoder</b> for this feature. For the dates, I will turn them in three columns (year|month|day) : For instance, for the feature 'date_activ', I will create 'date_activ_yyyy', 'date_activ_mm', 'date_activ_dd' and drop the original date column.</div>"
   ]
  },
  {
   "cell_type": "markdown",
   "metadata": {},
   "source": [
    "---\n",
    "\n",
    "## 4. Recursive Feature Extraction"
   ]
  },
  {
   "cell_type": "markdown",
   "metadata": {},
   "source": [
    "<div class='alert alert-bloc alert-info'>We successfully added some high-quality features in the previous steps. However, our dataset also happens to be filled with a lot of low-value features. We believe that removing the features that have little to no predictive power is likely to improve our model's performance. To do so, we will use an RFE (<b>Recursive Feature Extraction</b>) to remove the most impure features on our random forest model.<br>\n",
    "Note: To verify that we did not mistakenly remove high-value information, we will compare the model before and after this step and compare them on a metric. Since we want to accurately identify churn, we should not rely on accuracy alone (otherwise it might lead to high metric values even if we do not predict anything). Instead, we will train our models on the <b>ROC-AUC metric</b>.<div>"
   ]
  },
  {
   "cell_type": "markdown",
   "metadata": {},
   "source": [
    "---\n",
    "\n",
    "### Before RFE"
   ]
  },
  {
   "cell_type": "code",
   "execution_count": 73,
   "metadata": {},
   "outputs": [
    {
     "name": "stdout",
     "output_type": "stream",
     "text": [
      "{0: 0.5537965683951085, 1: 5.147136563876652}\n",
      "Test-set ROC-AUC with class weights: 0.659\n"
     ]
    }
   ],
   "source": [
    "X = df_results.drop(columns=['churn', 'id'])\n",
    "y = df_results['churn']\n",
    "\n",
    "X_train, X_test, y_train, y_test = train_test_split(X, y, test_size=0.2, random_state=7, stratify=y)\n",
    "scaler = StandardScaler()\n",
    "\n",
    "\n",
    "weights = class_weight.compute_class_weight(class_weight='balanced', classes=np.unique(y), y=y_train)\n",
    "class_weights = {cls: wt for cls, wt in zip(np.unique(y_train), weights)}\n",
    "print(class_weights)\n",
    "\n",
    "scaler.fit_transform(X_train, y_train)\n",
    "scaler.transform(X_test)\n",
    "\n",
    "model = RandomForestClassifier(n_estimators=100, max_depth=10, random_state=7, class_weight=class_weights)\n",
    "model.fit(X_train, y_train)\n",
    "\n",
    "\n",
    "y_proba = model.predict_proba(X_test)[:, 1]\n",
    "\n",
    "auc = roc_auc_score(y_test, y_proba)\n",
    "print(f\"Test-set ROC-AUC with class weights: {auc:.3f}\")"
   ]
  },
  {
   "cell_type": "code",
   "execution_count": 74,
   "metadata": {},
   "outputs": [
    {
     "data": {
      "application/vnd.plotly.v1+json": {
       "config": {
        "plotlyServerURL": "https://plot.ly"
       },
       "data": [
        {
         "mode": "lines",
         "name": "ROC Curve",
         "type": "scatter",
         "x": [
          0,
          0,
          0,
          0.0003790750568612585,
          0.0003790750568612585,
          0.000758150113722517,
          0.000758150113722517,
          0.0011372251705837756,
          0.0011372251705837756,
          0.001516300227445034,
          0.001516300227445034,
          0.004169825625473844,
          0.004169825625473844,
          0.004548900682335102,
          0.004548900682335102,
          0.00796057619408643,
          0.00796057619408643,
          0.009855951478392721,
          0.009855951478392721,
          0.01061410159211524,
          0.01061410159211524,
          0.010993176648976498,
          0.010993176648976498,
          0.011372251705837756,
          0.011372251705837756,
          0.01288855193328279,
          0.01288855193328279,
          0.013646702047005308,
          0.013646702047005308,
          0.014025777103866566,
          0.014025777103866566,
          0.014783927217589083,
          0.014783927217589083,
          0.0155420773313116,
          0.0155420773313116,
          0.016300227445034118,
          0.016300227445034118,
          0.016679302501895376,
          0.016679302501895376,
          0.018574677786201668,
          0.018574677786201668,
          0.023881728582259287,
          0.023881728582259287,
          0.025018953752843062,
          0.025018953752843062,
          0.02539802880970432,
          0.02539802880970432,
          0.027672479150871874,
          0.027672479150871874,
          0.02880970432145565,
          0.02880970432145565,
          0.0356330553449583,
          0.0356330553449583,
          0.037149355572403335,
          0.037149355572403335,
          0.03790750568612585,
          0.03790750568612585,
          0.039423805913570885,
          0.039423805913570885,
          0.04169825625473844,
          0.04169825625473844,
          0.04283548142532222,
          0.04283548142532222,
          0.04435178165276725,
          0.04435178165276725,
          0.045109931766489766,
          0.045109931766489766,
          0.0511751326762699,
          0.0511751326762699,
          0.05420773313115997,
          0.05420773313115997,
          0.05686125852918878,
          0.05686125852918878,
          0.05951478392721759,
          0.05951478392721759,
          0.05989385898407885,
          0.05989385898407885,
          0.060272934040940106,
          0.060272934040940106,
          0.06482183472327521,
          0.06482183472327521,
          0.06709628506444276,
          0.06709628506444276,
          0.07164518574677786,
          0.07164518574677786,
          0.07240333586050038,
          0.07240333586050038,
          0.0731614859742229,
          0.0731614859742229,
          0.07354056103108415,
          0.07354056103108415,
          0.07695223654283548,
          0.07695223654283548,
          0.077710386656558,
          0.077710386656558,
          0.07998483699772554,
          0.07998483699772554,
          0.08112206216830932,
          0.08112206216830932,
          0.08188021228203184,
          0.08188021228203184,
          0.08377558756633814,
          0.08377558756633814,
          0.0841546626231994,
          0.0841546626231994,
          0.08453373768006066,
          0.08453373768006066,
          0.08567096285064443,
          0.08567096285064443,
          0.08832448824867324,
          0.08832448824867324,
          0.10424564063684609,
          0.10424564063684609,
          0.10652009097801364,
          0.10652009097801364,
          0.10727824109173617,
          0.10727824109173617,
          0.1087945413191812,
          0.1087945413191812,
          0.10917361637604246,
          0.10917361637604246,
          0.1106899166034875,
          0.1106899166034875,
          0.11106899166034875,
          0.11106899166034875,
          0.11296436694465505,
          0.11296436694465505,
          0.11372251705837756,
          0.11372251705837756,
          0.11865049279757392,
          0.11865049279757392,
          0.11902956785443518,
          0.11902956785443518,
          0.12395754359363154,
          0.12395754359363154,
          0.12509476876421532,
          0.12509476876421532,
          0.13040181956027294,
          0.13040181956027294,
          0.13381349507202425,
          0.13381349507202425,
          0.13646702047005307,
          0.13646702047005307,
          0.1406368460955269,
          0.1406368460955269,
          0.14404852160727824,
          0.14404852160727824,
          0.1463229719484458,
          0.1463229719484458,
          0.14783927217589082,
          0.14783927217589082,
          0.1482183472327521,
          0.1482183472327521,
          0.14935557240333586,
          0.14935557240333586,
          0.1527672479150872,
          0.1527672479150872,
          0.15428354814253223,
          0.15428354814253223,
          0.1599696739954511,
          0.1599696739954511,
          0.1618650492797574,
          0.1618650492797574,
          0.16413949962092494,
          0.16413949962092494,
          0.16489764973464746,
          0.16489764973464746,
          0.17210007581501138,
          0.17210007581501138,
          0.1728582259287339,
          0.1728582259287339,
          0.17437452615617893,
          0.17437452615617893,
          0.17589082638362397,
          0.17589082638362397,
          0.1762699014404852,
          0.1762699014404852,
          0.177407126611069,
          0.177407126611069,
          0.17778620166793024,
          0.17778620166793024,
          0.18498862774829417,
          0.18498862774829417,
          0.18574677786201668,
          0.18574677786201668,
          0.189158453373768,
          0.189158453373768,
          0.18953752843062927,
          0.18953752843062927,
          0.1921910538286581,
          0.1921910538286581,
          0.19257012888551933,
          0.19257012888551933,
          0.19370735405610312,
          0.19370735405610312,
          0.20242608036391205,
          0.20242608036391205,
          0.20432145564821835,
          0.20432145564821835,
          0.21190295678544352,
          0.21190295678544352,
          0.21417740712661107,
          0.21417740712661107,
          0.2202426080363912,
          0.2202426080363912,
          0.22744503411675512,
          0.22744503411675512,
          0.23540561031084153,
          0.23540561031084153,
          0.23616376042456405,
          0.23616376042456405,
          0.23768006065200908,
          0.23768006065200908,
          0.24298711144806673,
          0.24298711144806673,
          0.2486732373009856,
          0.2486732373009856,
          0.25018953752843065,
          0.25018953752843065,
          0.25094768764215314,
          0.25094768764215314,
          0.25473843821076575,
          0.25473843821076575,
          0.2657316148597422,
          0.2657316148597422,
          0.26648976497346477,
          0.26648976497346477,
          0.2725549658832449,
          0.2725549658832449,
          0.27369219105382864,
          0.27369219105382864,
          0.28582259287338896,
          0.28582259287338896,
          0.2918877937831691,
          0.2918877937831691,
          0.29378316906747537,
          0.29378316906747537,
          0.29833206974981047,
          0.29833206974981047,
          0.29909021986353296,
          0.29909021986353296,
          0.3055344958301744,
          0.3055344958301744,
          0.31956027293404093,
          0.31956027293404093,
          0.332827899924185,
          0.332827899924185,
          0.3339651250947688,
          0.3339651250947688,
          0.34040940106141016,
          0.34040940106141016,
          0.3479909021986353,
          0.3479909021986353,
          0.3502653525398029,
          0.3502653525398029,
          0.35519332827899924,
          0.35519332827899924,
          0.35974222896133434,
          0.35974222896133434,
          0.3695981804397271,
          0.3695981804397271,
          0.37452615617892343,
          0.3752843062926459,
          0.3855193328278999,
          0.3855193328278999,
          0.3858984078847612,
          0.3858984078847612,
          0.38627748294162245,
          0.38627748294162245,
          0.38817285822592873,
          0.38817285822592873,
          0.38855193328279,
          0.38855193328279,
          0.3991660348749052,
          0.3991660348749052,
          0.40826383623957546,
          0.40826383623957546,
          0.40902198635329795,
          0.40902198635329795,
          0.4166034874905231,
          0.4166034874905231,
          0.4177407126611069,
          0.4177407126611069,
          0.422289613343442,
          0.422289613343442,
          0.4245640636846095,
          0.4245640636846095,
          0.42835481425322214,
          0.42835481425322214,
          0.43290371493555724,
          0.43290371493555724,
          0.43555724033358606,
          0.43555724033358606,
          0.4370735405610311,
          0.4370735405610311,
          0.44579226686884005,
          0.44579226686884005,
          0.4514783927217589,
          0.4514783927217589,
          0.45754359363153907,
          0.45754359363153907,
          0.46209249431387417,
          0.46209249431387417,
          0.4624715693707354,
          0.4624715693707354,
          0.4636087945413192,
          0.4636087945413192,
          0.4783927217589083,
          0.4783927217589083,
          0.49014404852160726,
          0.49014404852160726,
          0.4962092494313874,
          0.4962092494313874,
          0.5,
          0.5,
          0.5041698256254739,
          0.5041698256254739,
          0.5049279757391963,
          0.5049279757391963,
          0.511751326762699,
          0.511751326762699,
          0.5140257771038665,
          0.5140257771038665,
          0.5295678544351782,
          0.5295678544351782,
          0.5318423047763458,
          0.5318423047763458,
          0.5462471569370735,
          0.5462471569370735,
          0.558756633813495,
          0.558756633813495,
          0.5670962850644428,
          0.5670962850644428,
          0.5701288855193328,
          0.5701288855193328,
          0.576194086429113,
          0.576194086429113,
          0.5784685367702805,
          0.5784685367702805,
          0.5796057619408643,
          0.5796057619408643,
          0.5841546626231994,
          0.5841546626231994,
          0.5845337376800607,
          0.5845337376800607,
          0.5875663381349507,
          0.5875663381349507,
          0.5921152388172858,
          0.5921152388172858,
          0.5962850644427596,
          0.5962850644427596,
          0.6023502653525398,
          0.6023502653525398,
          0.6068991660348749,
          0.6068991660348749,
          0.6122062168309326,
          0.6122062168309326,
          0.6129643669446551,
          0.6129643669446551,
          0.6137225170583775,
          0.6137225170583775,
          0.6190295678544352,
          0.6190295678544352,
          0.620166793025019,
          0.620166793025019,
          0.6220621683093253,
          0.6220621683093253,
          0.6228203184230477,
          0.6228203184230477,
          0.6432903714935557,
          0.6432903714935557,
          0.6440485216072782,
          0.6440485216072782,
          0.6455648218347233,
          0.6455648218347233,
          0.6569370735405611,
          0.6569370735405611,
          0.6633813495072024,
          0.6633813495072024,
          0.6645185746777862,
          0.6645185746777862,
          0.6652767247915087,
          0.6652767247915087,
          0.6732373009855952,
          0.6732373009855952,
          0.6815769522365428,
          0.6815769522365428,
          0.6830932524639879,
          0.6830932524639879,
          0.6865049279757391,
          0.6865049279757391,
          0.7031842304776346,
          0.7031842304776346,
          0.703942380591357,
          0.703942380591357,
          0.7077331311599697,
          0.7077331311599697,
          0.7145564821834723,
          0.7145564821834723,
          0.7164518574677786,
          0.7164518574677786,
          0.7217589082638363,
          0.7217589082638363,
          0.7312357846853677,
          0.7312357846853677,
          0.7361637604245641,
          0.7361637604245641,
          0.7388172858225929,
          0.7388172858225929,
          0.7513267626990144,
          0.7513267626990144,
          0.7532221379833207,
          0.7532221379833207,
          0.7721758908263836,
          0.7721758908263836,
          0.77710386656558,
          0.77710386656558,
          0.7952994692949203,
          0.7952994692949203,
          0.7975739196360879,
          0.7975739196360879,
          0.8017437452615618,
          0.8017437452615618,
          0.8021228203184231,
          0.8021228203184231,
          0.8032600454890069,
          0.8032600454890069,
          0.8123578468536771,
          0.8123578468536771,
          0.8142532221379833,
          0.8142532221379833,
          0.8157695223654283,
          0.8157695223654283,
          0.8203184230477635,
          0.8203184230477635,
          0.821076573161486,
          0.821076573161486,
          0.83131159969674,
          0.83131159969674,
          0.8362395754359363,
          0.8362395754359363,
          0.8373768006065201,
          0.8373768006065201,
          0.8377558756633814,
          0.8377558756633814,
          0.8385140257771039,
          0.8385140257771039,
          0.8434420015163002,
          0.8434420015163002,
          0.8457164518574678,
          0.8457164518574678,
          0.8544351781652767,
          0.8544351781652767,
          0.8574677786201668,
          0.8574677786201668,
          0.8658074298711145,
          0.8658074298711145,
          0.8711144806671721,
          0.8711144806671721,
          0.8832448824867324,
          0.8832448824867324,
          0.8976497346474602,
          0.8976497346474602,
          0.9078847611827142,
          0.9078847611827142,
          0.910538286580743,
          0.910538286580743,
          0.9116755117513268,
          0.9116755117513268,
          0.9283548142532221,
          0.9283548142532221,
          0.9291129643669447,
          0.9291129643669447,
          0.9423805913570887,
          0.9423805913570887,
          0.9438968915845337,
          0.9438968915845337,
          0.944275966641395,
          0.944275966641395,
          0.9454131918119788,
          0.9454131918119788,
          0.959059893858984,
          0.959059893858984,
          1
         ],
         "y": [
          0,
          0.0035211267605633804,
          0.014084507042253521,
          0.014084507042253521,
          0.035211267605633804,
          0.035211267605633804,
          0.04929577464788732,
          0.04929577464788732,
          0.0528169014084507,
          0.0528169014084507,
          0.05985915492957746,
          0.05985915492957746,
          0.06338028169014084,
          0.06338028169014084,
          0.07394366197183098,
          0.07394366197183098,
          0.08098591549295775,
          0.08098591549295775,
          0.0880281690140845,
          0.0880281690140845,
          0.09154929577464789,
          0.09154929577464789,
          0.09859154929577464,
          0.09859154929577464,
          0.10211267605633803,
          0.10211267605633803,
          0.1056338028169014,
          0.1056338028169014,
          0.10915492957746478,
          0.10915492957746478,
          0.11267605633802817,
          0.11267605633802817,
          0.11619718309859155,
          0.11619718309859155,
          0.11971830985915492,
          0.11971830985915492,
          0.12323943661971831,
          0.12323943661971831,
          0.13028169014084506,
          0.13028169014084506,
          0.13380281690140844,
          0.13380281690140844,
          0.13732394366197184,
          0.13732394366197184,
          0.14084507042253522,
          0.14084507042253522,
          0.1443661971830986,
          0.1443661971830986,
          0.14788732394366197,
          0.14788732394366197,
          0.15140845070422534,
          0.15140845070422534,
          0.15492957746478872,
          0.15492957746478872,
          0.15845070422535212,
          0.15845070422535212,
          0.1619718309859155,
          0.1619718309859155,
          0.16549295774647887,
          0.16549295774647887,
          0.16901408450704225,
          0.16901408450704225,
          0.17253521126760563,
          0.17253521126760563,
          0.176056338028169,
          0.176056338028169,
          0.1795774647887324,
          0.1795774647887324,
          0.18309859154929578,
          0.18309859154929578,
          0.18661971830985916,
          0.18661971830985916,
          0.19014084507042253,
          0.19014084507042253,
          0.1936619718309859,
          0.1936619718309859,
          0.2112676056338028,
          0.2112676056338028,
          0.2147887323943662,
          0.2147887323943662,
          0.22183098591549297,
          0.22183098591549297,
          0.22535211267605634,
          0.22535211267605634,
          0.22887323943661972,
          0.22887323943661972,
          0.2323943661971831,
          0.2323943661971831,
          0.23591549295774647,
          0.23591549295774647,
          0.23943661971830985,
          0.23943661971830985,
          0.24295774647887325,
          0.24295774647887325,
          0.24647887323943662,
          0.24647887323943662,
          0.25,
          0.25,
          0.2535211267605634,
          0.2535211267605634,
          0.25704225352112675,
          0.25704225352112675,
          0.2640845070422535,
          0.2640845070422535,
          0.2711267605633803,
          0.2711267605633803,
          0.2746478873239437,
          0.2746478873239437,
          0.27816901408450706,
          0.27816901408450706,
          0.28169014084507044,
          0.28169014084507044,
          0.2852112676056338,
          0.2852112676056338,
          0.29225352112676056,
          0.29225352112676056,
          0.29577464788732394,
          0.29577464788732394,
          0.2992957746478873,
          0.2992957746478873,
          0.3028169014084507,
          0.3028169014084507,
          0.30633802816901406,
          0.30633802816901406,
          0.31338028169014087,
          0.31338028169014087,
          0.3204225352112676,
          0.3204225352112676,
          0.323943661971831,
          0.323943661971831,
          0.3274647887323944,
          0.3274647887323944,
          0.33098591549295775,
          0.33098591549295775,
          0.3380281690140845,
          0.3380281690140845,
          0.3415492957746479,
          0.3415492957746479,
          0.34507042253521125,
          0.34507042253521125,
          0.3485915492957746,
          0.3485915492957746,
          0.352112676056338,
          0.352112676056338,
          0.3591549295774648,
          0.3591549295774648,
          0.3626760563380282,
          0.3626760563380282,
          0.36619718309859156,
          0.36619718309859156,
          0.36971830985915494,
          0.36971830985915494,
          0.3767605633802817,
          0.3767605633802817,
          0.38028169014084506,
          0.38028169014084506,
          0.38380281690140844,
          0.38380281690140844,
          0.3873239436619718,
          0.3873239436619718,
          0.3908450704225352,
          0.3908450704225352,
          0.39436619718309857,
          0.39436619718309857,
          0.397887323943662,
          0.397887323943662,
          0.4014084507042254,
          0.4014084507042254,
          0.40492957746478875,
          0.40492957746478875,
          0.4084507042253521,
          0.4084507042253521,
          0.4154929577464789,
          0.4154929577464789,
          0.4225352112676056,
          0.4225352112676056,
          0.426056338028169,
          0.426056338028169,
          0.4295774647887324,
          0.4295774647887324,
          0.43309859154929575,
          0.43309859154929575,
          0.43661971830985913,
          0.43661971830985913,
          0.44014084507042256,
          0.44014084507042256,
          0.44366197183098594,
          0.44366197183098594,
          0.4471830985915493,
          0.4471830985915493,
          0.4507042253521127,
          0.4507042253521127,
          0.45422535211267606,
          0.45422535211267606,
          0.45774647887323944,
          0.45774647887323944,
          0.4612676056338028,
          0.4612676056338028,
          0.4647887323943662,
          0.4647887323943662,
          0.46830985915492956,
          0.46830985915492956,
          0.47183098591549294,
          0.47183098591549294,
          0.4753521126760563,
          0.4753521126760563,
          0.4788732394366197,
          0.4788732394366197,
          0.4823943661971831,
          0.4823943661971831,
          0.4859154929577465,
          0.4859154929577465,
          0.4894366197183099,
          0.4894366197183099,
          0.49295774647887325,
          0.49295774647887325,
          0.4964788732394366,
          0.4964788732394366,
          0.5,
          0.5,
          0.5070422535211268,
          0.5070422535211268,
          0.5105633802816901,
          0.5105633802816901,
          0.5140845070422535,
          0.5140845070422535,
          0.5211267605633803,
          0.5211267605633803,
          0.5246478873239436,
          0.5246478873239436,
          0.528169014084507,
          0.528169014084507,
          0.5316901408450704,
          0.5316901408450704,
          0.5352112676056338,
          0.5352112676056338,
          0.5387323943661971,
          0.5387323943661971,
          0.545774647887324,
          0.545774647887324,
          0.5492957746478874,
          0.5492957746478874,
          0.5528169014084507,
          0.5528169014084507,
          0.5563380281690141,
          0.5563380281690141,
          0.5598591549295775,
          0.5598591549295775,
          0.5633802816901409,
          0.5633802816901409,
          0.5669014084507042,
          0.5669014084507042,
          0.5704225352112676,
          0.5704225352112676,
          0.573943661971831,
          0.573943661971831,
          0.5774647887323944,
          0.5774647887323944,
          0.5809859154929577,
          0.5809859154929577,
          0.5845070422535211,
          0.5845070422535211,
          0.5845070422535211,
          0.5845070422535211,
          0.5880281690140845,
          0.5880281690140845,
          0.5915492957746479,
          0.5915492957746479,
          0.5950704225352113,
          0.5950704225352113,
          0.5985915492957746,
          0.5985915492957746,
          0.602112676056338,
          0.602112676056338,
          0.6056338028169014,
          0.6056338028169014,
          0.6091549295774648,
          0.6091549295774648,
          0.6161971830985915,
          0.6161971830985915,
          0.6197183098591549,
          0.6197183098591549,
          0.6232394366197183,
          0.6232394366197183,
          0.6267605633802817,
          0.6267605633802817,
          0.6302816901408451,
          0.6302816901408451,
          0.6338028169014085,
          0.6338028169014085,
          0.6373239436619719,
          0.6373239436619719,
          0.6408450704225352,
          0.6408450704225352,
          0.6443661971830986,
          0.6443661971830986,
          0.647887323943662,
          0.647887323943662,
          0.6549295774647887,
          0.6549295774647887,
          0.6584507042253521,
          0.6584507042253521,
          0.6619718309859155,
          0.6619718309859155,
          0.6654929577464789,
          0.6654929577464789,
          0.6690140845070423,
          0.6690140845070423,
          0.6725352112676056,
          0.6725352112676056,
          0.676056338028169,
          0.676056338028169,
          0.6795774647887324,
          0.6795774647887324,
          0.6866197183098591,
          0.6866197183098591,
          0.6901408450704225,
          0.6901408450704225,
          0.6936619718309859,
          0.6936619718309859,
          0.6971830985915493,
          0.6971830985915493,
          0.7007042253521126,
          0.7007042253521126,
          0.704225352112676,
          0.704225352112676,
          0.7077464788732394,
          0.7077464788732394,
          0.7147887323943662,
          0.7147887323943662,
          0.7183098591549296,
          0.7183098591549296,
          0.721830985915493,
          0.721830985915493,
          0.7253521126760564,
          0.7253521126760564,
          0.7288732394366197,
          0.7288732394366197,
          0.7323943661971831,
          0.7323943661971831,
          0.7359154929577465,
          0.7359154929577465,
          0.7394366197183099,
          0.7394366197183099,
          0.7429577464788732,
          0.7429577464788732,
          0.7464788732394366,
          0.7464788732394366,
          0.75,
          0.75,
          0.7535211267605634,
          0.7535211267605634,
          0.7570422535211268,
          0.7570422535211268,
          0.7605633802816901,
          0.7605633802816901,
          0.7640845070422535,
          0.7640845070422535,
          0.7676056338028169,
          0.7676056338028169,
          0.7711267605633803,
          0.7711267605633803,
          0.778169014084507,
          0.778169014084507,
          0.7816901408450704,
          0.7816901408450704,
          0.7852112676056338,
          0.7852112676056338,
          0.7887323943661971,
          0.7887323943661971,
          0.7922535211267606,
          0.7922535211267606,
          0.795774647887324,
          0.795774647887324,
          0.7992957746478874,
          0.7992957746478874,
          0.8063380281690141,
          0.8063380281690141,
          0.8098591549295775,
          0.8098591549295775,
          0.8133802816901409,
          0.8133802816901409,
          0.8169014084507042,
          0.8169014084507042,
          0.8204225352112676,
          0.8204225352112676,
          0.823943661971831,
          0.823943661971831,
          0.8274647887323944,
          0.8274647887323944,
          0.8309859154929577,
          0.8309859154929577,
          0.8345070422535211,
          0.8345070422535211,
          0.8380281690140845,
          0.8380281690140845,
          0.8415492957746479,
          0.8415492957746479,
          0.8485915492957746,
          0.8485915492957746,
          0.852112676056338,
          0.852112676056338,
          0.8556338028169014,
          0.8556338028169014,
          0.8591549295774648,
          0.8591549295774648,
          0.8661971830985915,
          0.8661971830985915,
          0.8697183098591549,
          0.8697183098591549,
          0.8732394366197183,
          0.8732394366197183,
          0.8767605633802817,
          0.8767605633802817,
          0.8802816901408451,
          0.8802816901408451,
          0.8838028169014085,
          0.8838028169014085,
          0.8873239436619719,
          0.8873239436619719,
          0.8908450704225352,
          0.8908450704225352,
          0.8943661971830986,
          0.8943661971830986,
          0.897887323943662,
          0.897887323943662,
          0.9014084507042254,
          0.9014084507042254,
          0.9049295774647887,
          0.9049295774647887,
          0.9084507042253521,
          0.9084507042253521,
          0.9119718309859155,
          0.9119718309859155,
          0.9154929577464789,
          0.9154929577464789,
          0.9190140845070423,
          0.9190140845070423,
          0.9225352112676056,
          0.9225352112676056,
          0.926056338028169,
          0.926056338028169,
          0.9295774647887324,
          0.9295774647887324,
          0.9330985915492958,
          0.9330985915492958,
          0.9366197183098591,
          0.9366197183098591,
          0.9401408450704225,
          0.9401408450704225,
          0.9436619718309859,
          0.9436619718309859,
          0.9471830985915493,
          0.9471830985915493,
          0.9507042253521126,
          0.9507042253521126,
          0.954225352112676,
          0.954225352112676,
          0.9577464788732394,
          0.9577464788732394,
          0.9612676056338029,
          0.9612676056338029,
          0.9647887323943662,
          0.9647887323943662,
          0.9683098591549296,
          0.9683098591549296,
          0.971830985915493,
          0.971830985915493,
          0.9753521126760564,
          0.9753521126760564,
          0.9788732394366197,
          0.9788732394366197,
          0.9823943661971831,
          0.9823943661971831,
          0.9859154929577465,
          0.9859154929577465,
          0.9894366197183099,
          0.9894366197183099,
          0.9929577464788732,
          0.9929577464788732,
          0.9964788732394366,
          0.9964788732394366,
          1,
          1
         ]
        },
        {
         "line": {
          "dash": "dash"
         },
         "mode": "lines",
         "name": "Random Classifier",
         "type": "scatter",
         "x": [
          0,
          1
         ],
         "y": [
          0,
          1
         ]
        }
       ],
       "layout": {
        "legend": {
         "x": 0.7,
         "y": 0.1
        },
        "template": {
         "data": {
          "bar": [
           {
            "error_x": {
             "color": "#2a3f5f"
            },
            "error_y": {
             "color": "#2a3f5f"
            },
            "marker": {
             "line": {
              "color": "#E5ECF6",
              "width": 0.5
             },
             "pattern": {
              "fillmode": "overlay",
              "size": 10,
              "solidity": 0.2
             }
            },
            "type": "bar"
           }
          ],
          "barpolar": [
           {
            "marker": {
             "line": {
              "color": "#E5ECF6",
              "width": 0.5
             },
             "pattern": {
              "fillmode": "overlay",
              "size": 10,
              "solidity": 0.2
             }
            },
            "type": "barpolar"
           }
          ],
          "carpet": [
           {
            "aaxis": {
             "endlinecolor": "#2a3f5f",
             "gridcolor": "white",
             "linecolor": "white",
             "minorgridcolor": "white",
             "startlinecolor": "#2a3f5f"
            },
            "baxis": {
             "endlinecolor": "#2a3f5f",
             "gridcolor": "white",
             "linecolor": "white",
             "minorgridcolor": "white",
             "startlinecolor": "#2a3f5f"
            },
            "type": "carpet"
           }
          ],
          "choropleth": [
           {
            "colorbar": {
             "outlinewidth": 0,
             "ticks": ""
            },
            "type": "choropleth"
           }
          ],
          "contour": [
           {
            "colorbar": {
             "outlinewidth": 0,
             "ticks": ""
            },
            "colorscale": [
             [
              0,
              "#0d0887"
             ],
             [
              0.1111111111111111,
              "#46039f"
             ],
             [
              0.2222222222222222,
              "#7201a8"
             ],
             [
              0.3333333333333333,
              "#9c179e"
             ],
             [
              0.4444444444444444,
              "#bd3786"
             ],
             [
              0.5555555555555556,
              "#d8576b"
             ],
             [
              0.6666666666666666,
              "#ed7953"
             ],
             [
              0.7777777777777778,
              "#fb9f3a"
             ],
             [
              0.8888888888888888,
              "#fdca26"
             ],
             [
              1,
              "#f0f921"
             ]
            ],
            "type": "contour"
           }
          ],
          "contourcarpet": [
           {
            "colorbar": {
             "outlinewidth": 0,
             "ticks": ""
            },
            "type": "contourcarpet"
           }
          ],
          "heatmap": [
           {
            "colorbar": {
             "outlinewidth": 0,
             "ticks": ""
            },
            "colorscale": [
             [
              0,
              "#0d0887"
             ],
             [
              0.1111111111111111,
              "#46039f"
             ],
             [
              0.2222222222222222,
              "#7201a8"
             ],
             [
              0.3333333333333333,
              "#9c179e"
             ],
             [
              0.4444444444444444,
              "#bd3786"
             ],
             [
              0.5555555555555556,
              "#d8576b"
             ],
             [
              0.6666666666666666,
              "#ed7953"
             ],
             [
              0.7777777777777778,
              "#fb9f3a"
             ],
             [
              0.8888888888888888,
              "#fdca26"
             ],
             [
              1,
              "#f0f921"
             ]
            ],
            "type": "heatmap"
           }
          ],
          "heatmapgl": [
           {
            "colorbar": {
             "outlinewidth": 0,
             "ticks": ""
            },
            "colorscale": [
             [
              0,
              "#0d0887"
             ],
             [
              0.1111111111111111,
              "#46039f"
             ],
             [
              0.2222222222222222,
              "#7201a8"
             ],
             [
              0.3333333333333333,
              "#9c179e"
             ],
             [
              0.4444444444444444,
              "#bd3786"
             ],
             [
              0.5555555555555556,
              "#d8576b"
             ],
             [
              0.6666666666666666,
              "#ed7953"
             ],
             [
              0.7777777777777778,
              "#fb9f3a"
             ],
             [
              0.8888888888888888,
              "#fdca26"
             ],
             [
              1,
              "#f0f921"
             ]
            ],
            "type": "heatmapgl"
           }
          ],
          "histogram": [
           {
            "marker": {
             "pattern": {
              "fillmode": "overlay",
              "size": 10,
              "solidity": 0.2
             }
            },
            "type": "histogram"
           }
          ],
          "histogram2d": [
           {
            "colorbar": {
             "outlinewidth": 0,
             "ticks": ""
            },
            "colorscale": [
             [
              0,
              "#0d0887"
             ],
             [
              0.1111111111111111,
              "#46039f"
             ],
             [
              0.2222222222222222,
              "#7201a8"
             ],
             [
              0.3333333333333333,
              "#9c179e"
             ],
             [
              0.4444444444444444,
              "#bd3786"
             ],
             [
              0.5555555555555556,
              "#d8576b"
             ],
             [
              0.6666666666666666,
              "#ed7953"
             ],
             [
              0.7777777777777778,
              "#fb9f3a"
             ],
             [
              0.8888888888888888,
              "#fdca26"
             ],
             [
              1,
              "#f0f921"
             ]
            ],
            "type": "histogram2d"
           }
          ],
          "histogram2dcontour": [
           {
            "colorbar": {
             "outlinewidth": 0,
             "ticks": ""
            },
            "colorscale": [
             [
              0,
              "#0d0887"
             ],
             [
              0.1111111111111111,
              "#46039f"
             ],
             [
              0.2222222222222222,
              "#7201a8"
             ],
             [
              0.3333333333333333,
              "#9c179e"
             ],
             [
              0.4444444444444444,
              "#bd3786"
             ],
             [
              0.5555555555555556,
              "#d8576b"
             ],
             [
              0.6666666666666666,
              "#ed7953"
             ],
             [
              0.7777777777777778,
              "#fb9f3a"
             ],
             [
              0.8888888888888888,
              "#fdca26"
             ],
             [
              1,
              "#f0f921"
             ]
            ],
            "type": "histogram2dcontour"
           }
          ],
          "mesh3d": [
           {
            "colorbar": {
             "outlinewidth": 0,
             "ticks": ""
            },
            "type": "mesh3d"
           }
          ],
          "parcoords": [
           {
            "line": {
             "colorbar": {
              "outlinewidth": 0,
              "ticks": ""
             }
            },
            "type": "parcoords"
           }
          ],
          "pie": [
           {
            "automargin": true,
            "type": "pie"
           }
          ],
          "scatter": [
           {
            "fillpattern": {
             "fillmode": "overlay",
             "size": 10,
             "solidity": 0.2
            },
            "type": "scatter"
           }
          ],
          "scatter3d": [
           {
            "line": {
             "colorbar": {
              "outlinewidth": 0,
              "ticks": ""
             }
            },
            "marker": {
             "colorbar": {
              "outlinewidth": 0,
              "ticks": ""
             }
            },
            "type": "scatter3d"
           }
          ],
          "scattercarpet": [
           {
            "marker": {
             "colorbar": {
              "outlinewidth": 0,
              "ticks": ""
             }
            },
            "type": "scattercarpet"
           }
          ],
          "scattergeo": [
           {
            "marker": {
             "colorbar": {
              "outlinewidth": 0,
              "ticks": ""
             }
            },
            "type": "scattergeo"
           }
          ],
          "scattergl": [
           {
            "marker": {
             "colorbar": {
              "outlinewidth": 0,
              "ticks": ""
             }
            },
            "type": "scattergl"
           }
          ],
          "scattermapbox": [
           {
            "marker": {
             "colorbar": {
              "outlinewidth": 0,
              "ticks": ""
             }
            },
            "type": "scattermapbox"
           }
          ],
          "scatterpolar": [
           {
            "marker": {
             "colorbar": {
              "outlinewidth": 0,
              "ticks": ""
             }
            },
            "type": "scatterpolar"
           }
          ],
          "scatterpolargl": [
           {
            "marker": {
             "colorbar": {
              "outlinewidth": 0,
              "ticks": ""
             }
            },
            "type": "scatterpolargl"
           }
          ],
          "scatterternary": [
           {
            "marker": {
             "colorbar": {
              "outlinewidth": 0,
              "ticks": ""
             }
            },
            "type": "scatterternary"
           }
          ],
          "surface": [
           {
            "colorbar": {
             "outlinewidth": 0,
             "ticks": ""
            },
            "colorscale": [
             [
              0,
              "#0d0887"
             ],
             [
              0.1111111111111111,
              "#46039f"
             ],
             [
              0.2222222222222222,
              "#7201a8"
             ],
             [
              0.3333333333333333,
              "#9c179e"
             ],
             [
              0.4444444444444444,
              "#bd3786"
             ],
             [
              0.5555555555555556,
              "#d8576b"
             ],
             [
              0.6666666666666666,
              "#ed7953"
             ],
             [
              0.7777777777777778,
              "#fb9f3a"
             ],
             [
              0.8888888888888888,
              "#fdca26"
             ],
             [
              1,
              "#f0f921"
             ]
            ],
            "type": "surface"
           }
          ],
          "table": [
           {
            "cells": {
             "fill": {
              "color": "#EBF0F8"
             },
             "line": {
              "color": "white"
             }
            },
            "header": {
             "fill": {
              "color": "#C8D4E3"
             },
             "line": {
              "color": "white"
             }
            },
            "type": "table"
           }
          ]
         },
         "layout": {
          "annotationdefaults": {
           "arrowcolor": "#2a3f5f",
           "arrowhead": 0,
           "arrowwidth": 1
          },
          "autotypenumbers": "strict",
          "coloraxis": {
           "colorbar": {
            "outlinewidth": 0,
            "ticks": ""
           }
          },
          "colorscale": {
           "diverging": [
            [
             0,
             "#8e0152"
            ],
            [
             0.1,
             "#c51b7d"
            ],
            [
             0.2,
             "#de77ae"
            ],
            [
             0.3,
             "#f1b6da"
            ],
            [
             0.4,
             "#fde0ef"
            ],
            [
             0.5,
             "#f7f7f7"
            ],
            [
             0.6,
             "#e6f5d0"
            ],
            [
             0.7,
             "#b8e186"
            ],
            [
             0.8,
             "#7fbc41"
            ],
            [
             0.9,
             "#4d9221"
            ],
            [
             1,
             "#276419"
            ]
           ],
           "sequential": [
            [
             0,
             "#0d0887"
            ],
            [
             0.1111111111111111,
             "#46039f"
            ],
            [
             0.2222222222222222,
             "#7201a8"
            ],
            [
             0.3333333333333333,
             "#9c179e"
            ],
            [
             0.4444444444444444,
             "#bd3786"
            ],
            [
             0.5555555555555556,
             "#d8576b"
            ],
            [
             0.6666666666666666,
             "#ed7953"
            ],
            [
             0.7777777777777778,
             "#fb9f3a"
            ],
            [
             0.8888888888888888,
             "#fdca26"
            ],
            [
             1,
             "#f0f921"
            ]
           ],
           "sequentialminus": [
            [
             0,
             "#0d0887"
            ],
            [
             0.1111111111111111,
             "#46039f"
            ],
            [
             0.2222222222222222,
             "#7201a8"
            ],
            [
             0.3333333333333333,
             "#9c179e"
            ],
            [
             0.4444444444444444,
             "#bd3786"
            ],
            [
             0.5555555555555556,
             "#d8576b"
            ],
            [
             0.6666666666666666,
             "#ed7953"
            ],
            [
             0.7777777777777778,
             "#fb9f3a"
            ],
            [
             0.8888888888888888,
             "#fdca26"
            ],
            [
             1,
             "#f0f921"
            ]
           ]
          },
          "colorway": [
           "#636efa",
           "#EF553B",
           "#00cc96",
           "#ab63fa",
           "#FFA15A",
           "#19d3f3",
           "#FF6692",
           "#B6E880",
           "#FF97FF",
           "#FECB52"
          ],
          "font": {
           "color": "#2a3f5f"
          },
          "geo": {
           "bgcolor": "white",
           "lakecolor": "white",
           "landcolor": "#E5ECF6",
           "showlakes": true,
           "showland": true,
           "subunitcolor": "white"
          },
          "hoverlabel": {
           "align": "left"
          },
          "hovermode": "closest",
          "mapbox": {
           "style": "light"
          },
          "paper_bgcolor": "white",
          "plot_bgcolor": "#E5ECF6",
          "polar": {
           "angularaxis": {
            "gridcolor": "white",
            "linecolor": "white",
            "ticks": ""
           },
           "bgcolor": "#E5ECF6",
           "radialaxis": {
            "gridcolor": "white",
            "linecolor": "white",
            "ticks": ""
           }
          },
          "scene": {
           "xaxis": {
            "backgroundcolor": "#E5ECF6",
            "gridcolor": "white",
            "gridwidth": 2,
            "linecolor": "white",
            "showbackground": true,
            "ticks": "",
            "zerolinecolor": "white"
           },
           "yaxis": {
            "backgroundcolor": "#E5ECF6",
            "gridcolor": "white",
            "gridwidth": 2,
            "linecolor": "white",
            "showbackground": true,
            "ticks": "",
            "zerolinecolor": "white"
           },
           "zaxis": {
            "backgroundcolor": "#E5ECF6",
            "gridcolor": "white",
            "gridwidth": 2,
            "linecolor": "white",
            "showbackground": true,
            "ticks": "",
            "zerolinecolor": "white"
           }
          },
          "shapedefaults": {
           "line": {
            "color": "#2a3f5f"
           }
          },
          "ternary": {
           "aaxis": {
            "gridcolor": "white",
            "linecolor": "white",
            "ticks": ""
           },
           "baxis": {
            "gridcolor": "white",
            "linecolor": "white",
            "ticks": ""
           },
           "bgcolor": "#E5ECF6",
           "caxis": {
            "gridcolor": "white",
            "linecolor": "white",
            "ticks": ""
           }
          },
          "title": {
           "x": 0.05
          },
          "xaxis": {
           "automargin": true,
           "gridcolor": "white",
           "linecolor": "white",
           "ticks": "",
           "title": {
            "standoff": 15
           },
           "zerolinecolor": "white",
           "zerolinewidth": 2
          },
          "yaxis": {
           "automargin": true,
           "gridcolor": "white",
           "linecolor": "white",
           "ticks": "",
           "title": {
            "standoff": 15
           },
           "zerolinecolor": "white",
           "zerolinewidth": 2
          }
         }
        },
        "title": {
         "text": "Receiver Operating Characteristic (ROC) Curve"
        },
        "xaxis": {
         "constrain": "domain",
         "title": {
          "text": "False Positive Rate"
         }
        },
        "yaxis": {
         "scaleanchor": "x",
         "scaleratio": 1,
         "title": {
          "text": "True Positive Rate"
         }
        }
       }
      }
     },
     "metadata": {},
     "output_type": "display_data"
    }
   ],
   "source": [
    "fpr, tpr, thresholds = roc_curve(y_test, y_proba)\n",
    "fig = go.Figure()\n",
    "fig.add_trace(go.Scatter(x=fpr, y=tpr, mode='lines', name='ROC Curve'))\n",
    "fig.add_trace(go.Scatter(x=[0, 1], y=[0, 1], mode='lines', name='Random Classifier', line=dict(dash='dash')))\n",
    "\n",
    "fig.update_layout(\n",
    "    title='Receiver Operating Characteristic (ROC) Curve',\n",
    "    xaxis_title='False Positive Rate',\n",
    "    yaxis_title='True Positive Rate',\n",
    "    xaxis=dict(constrain='domain'),\n",
    "    yaxis=dict(scaleanchor='x', scaleratio=1),\n",
    "    legend=dict(x=0.7, y=0.1)\n",
    ")\n",
    "\n",
    "fig.show()"
   ]
  },
  {
   "cell_type": "markdown",
   "metadata": {},
   "source": [
    "--- \n",
    "\n",
    "### Recursive Feature Extraction"
   ]
  },
  {
   "cell_type": "code",
   "execution_count": 76,
   "metadata": {},
   "outputs": [
    {
     "name": "stderr",
     "output_type": "stream",
     "text": [
      "c:\\Users\\Louis\\AppData\\Local\\Programs\\Python\\Python311\\Lib\\site-packages\\sklearn\\linear_model\\_logistic.py:469: ConvergenceWarning:\n",
      "\n",
      "lbfgs failed to converge (status=1):\n",
      "STOP: TOTAL NO. of ITERATIONS REACHED LIMIT.\n",
      "\n",
      "Increase the number of iterations (max_iter) or scale the data as shown in:\n",
      "    https://scikit-learn.org/stable/modules/preprocessing.html\n",
      "Please also refer to the documentation for alternative solver options:\n",
      "    https://scikit-learn.org/stable/modules/linear_model.html#logistic-regression\n",
      "\n",
      "c:\\Users\\Louis\\AppData\\Local\\Programs\\Python\\Python311\\Lib\\site-packages\\sklearn\\linear_model\\_logistic.py:469: ConvergenceWarning:\n",
      "\n",
      "lbfgs failed to converge (status=1):\n",
      "STOP: TOTAL NO. of ITERATIONS REACHED LIMIT.\n",
      "\n",
      "Increase the number of iterations (max_iter) or scale the data as shown in:\n",
      "    https://scikit-learn.org/stable/modules/preprocessing.html\n",
      "Please also refer to the documentation for alternative solver options:\n",
      "    https://scikit-learn.org/stable/modules/linear_model.html#logistic-regression\n",
      "\n",
      "c:\\Users\\Louis\\AppData\\Local\\Programs\\Python\\Python311\\Lib\\site-packages\\sklearn\\linear_model\\_logistic.py:469: ConvergenceWarning:\n",
      "\n",
      "lbfgs failed to converge (status=1):\n",
      "STOP: TOTAL NO. of ITERATIONS REACHED LIMIT.\n",
      "\n",
      "Increase the number of iterations (max_iter) or scale the data as shown in:\n",
      "    https://scikit-learn.org/stable/modules/preprocessing.html\n",
      "Please also refer to the documentation for alternative solver options:\n",
      "    https://scikit-learn.org/stable/modules/linear_model.html#logistic-regression\n",
      "\n",
      "c:\\Users\\Louis\\AppData\\Local\\Programs\\Python\\Python311\\Lib\\site-packages\\sklearn\\linear_model\\_logistic.py:469: ConvergenceWarning:\n",
      "\n",
      "lbfgs failed to converge (status=1):\n",
      "STOP: TOTAL NO. of ITERATIONS REACHED LIMIT.\n",
      "\n",
      "Increase the number of iterations (max_iter) or scale the data as shown in:\n",
      "    https://scikit-learn.org/stable/modules/preprocessing.html\n",
      "Please also refer to the documentation for alternative solver options:\n",
      "    https://scikit-learn.org/stable/modules/linear_model.html#logistic-regression\n",
      "\n",
      "c:\\Users\\Louis\\AppData\\Local\\Programs\\Python\\Python311\\Lib\\site-packages\\sklearn\\linear_model\\_logistic.py:469: ConvergenceWarning:\n",
      "\n",
      "lbfgs failed to converge (status=1):\n",
      "STOP: TOTAL NO. of ITERATIONS REACHED LIMIT.\n",
      "\n",
      "Increase the number of iterations (max_iter) or scale the data as shown in:\n",
      "    https://scikit-learn.org/stable/modules/preprocessing.html\n",
      "Please also refer to the documentation for alternative solver options:\n",
      "    https://scikit-learn.org/stable/modules/linear_model.html#logistic-regression\n",
      "\n",
      "c:\\Users\\Louis\\AppData\\Local\\Programs\\Python\\Python311\\Lib\\site-packages\\sklearn\\linear_model\\_logistic.py:469: ConvergenceWarning:\n",
      "\n",
      "lbfgs failed to converge (status=1):\n",
      "STOP: TOTAL NO. of ITERATIONS REACHED LIMIT.\n",
      "\n",
      "Increase the number of iterations (max_iter) or scale the data as shown in:\n",
      "    https://scikit-learn.org/stable/modules/preprocessing.html\n",
      "Please also refer to the documentation for alternative solver options:\n",
      "    https://scikit-learn.org/stable/modules/linear_model.html#logistic-regression\n",
      "\n",
      "c:\\Users\\Louis\\AppData\\Local\\Programs\\Python\\Python311\\Lib\\site-packages\\sklearn\\linear_model\\_logistic.py:469: ConvergenceWarning:\n",
      "\n",
      "lbfgs failed to converge (status=1):\n",
      "STOP: TOTAL NO. of ITERATIONS REACHED LIMIT.\n",
      "\n",
      "Increase the number of iterations (max_iter) or scale the data as shown in:\n",
      "    https://scikit-learn.org/stable/modules/preprocessing.html\n",
      "Please also refer to the documentation for alternative solver options:\n",
      "    https://scikit-learn.org/stable/modules/linear_model.html#logistic-regression\n",
      "\n",
      "c:\\Users\\Louis\\AppData\\Local\\Programs\\Python\\Python311\\Lib\\site-packages\\sklearn\\linear_model\\_logistic.py:469: ConvergenceWarning:\n",
      "\n",
      "lbfgs failed to converge (status=1):\n",
      "STOP: TOTAL NO. of ITERATIONS REACHED LIMIT.\n",
      "\n",
      "Increase the number of iterations (max_iter) or scale the data as shown in:\n",
      "    https://scikit-learn.org/stable/modules/preprocessing.html\n",
      "Please also refer to the documentation for alternative solver options:\n",
      "    https://scikit-learn.org/stable/modules/linear_model.html#logistic-regression\n",
      "\n",
      "c:\\Users\\Louis\\AppData\\Local\\Programs\\Python\\Python311\\Lib\\site-packages\\sklearn\\linear_model\\_logistic.py:469: ConvergenceWarning:\n",
      "\n",
      "lbfgs failed to converge (status=1):\n",
      "STOP: TOTAL NO. of ITERATIONS REACHED LIMIT.\n",
      "\n",
      "Increase the number of iterations (max_iter) or scale the data as shown in:\n",
      "    https://scikit-learn.org/stable/modules/preprocessing.html\n",
      "Please also refer to the documentation for alternative solver options:\n",
      "    https://scikit-learn.org/stable/modules/linear_model.html#logistic-regression\n",
      "\n",
      "c:\\Users\\Louis\\AppData\\Local\\Programs\\Python\\Python311\\Lib\\site-packages\\sklearn\\linear_model\\_logistic.py:469: ConvergenceWarning:\n",
      "\n",
      "lbfgs failed to converge (status=1):\n",
      "STOP: TOTAL NO. of ITERATIONS REACHED LIMIT.\n",
      "\n",
      "Increase the number of iterations (max_iter) or scale the data as shown in:\n",
      "    https://scikit-learn.org/stable/modules/preprocessing.html\n",
      "Please also refer to the documentation for alternative solver options:\n",
      "    https://scikit-learn.org/stable/modules/linear_model.html#logistic-regression\n",
      "\n",
      "c:\\Users\\Louis\\AppData\\Local\\Programs\\Python\\Python311\\Lib\\site-packages\\sklearn\\linear_model\\_logistic.py:469: ConvergenceWarning:\n",
      "\n",
      "lbfgs failed to converge (status=1):\n",
      "STOP: TOTAL NO. of ITERATIONS REACHED LIMIT.\n",
      "\n",
      "Increase the number of iterations (max_iter) or scale the data as shown in:\n",
      "    https://scikit-learn.org/stable/modules/preprocessing.html\n",
      "Please also refer to the documentation for alternative solver options:\n",
      "    https://scikit-learn.org/stable/modules/linear_model.html#logistic-regression\n",
      "\n",
      "c:\\Users\\Louis\\AppData\\Local\\Programs\\Python\\Python311\\Lib\\site-packages\\sklearn\\linear_model\\_logistic.py:469: ConvergenceWarning:\n",
      "\n",
      "lbfgs failed to converge (status=1):\n",
      "STOP: TOTAL NO. of ITERATIONS REACHED LIMIT.\n",
      "\n",
      "Increase the number of iterations (max_iter) or scale the data as shown in:\n",
      "    https://scikit-learn.org/stable/modules/preprocessing.html\n",
      "Please also refer to the documentation for alternative solver options:\n",
      "    https://scikit-learn.org/stable/modules/linear_model.html#logistic-regression\n",
      "\n",
      "c:\\Users\\Louis\\AppData\\Local\\Programs\\Python\\Python311\\Lib\\site-packages\\sklearn\\linear_model\\_logistic.py:469: ConvergenceWarning:\n",
      "\n",
      "lbfgs failed to converge (status=1):\n",
      "STOP: TOTAL NO. of ITERATIONS REACHED LIMIT.\n",
      "\n",
      "Increase the number of iterations (max_iter) or scale the data as shown in:\n",
      "    https://scikit-learn.org/stable/modules/preprocessing.html\n",
      "Please also refer to the documentation for alternative solver options:\n",
      "    https://scikit-learn.org/stable/modules/linear_model.html#logistic-regression\n",
      "\n",
      "c:\\Users\\Louis\\AppData\\Local\\Programs\\Python\\Python311\\Lib\\site-packages\\sklearn\\linear_model\\_logistic.py:469: ConvergenceWarning:\n",
      "\n",
      "lbfgs failed to converge (status=1):\n",
      "STOP: TOTAL NO. of ITERATIONS REACHED LIMIT.\n",
      "\n",
      "Increase the number of iterations (max_iter) or scale the data as shown in:\n",
      "    https://scikit-learn.org/stable/modules/preprocessing.html\n",
      "Please also refer to the documentation for alternative solver options:\n",
      "    https://scikit-learn.org/stable/modules/linear_model.html#logistic-regression\n",
      "\n",
      "c:\\Users\\Louis\\AppData\\Local\\Programs\\Python\\Python311\\Lib\\site-packages\\sklearn\\linear_model\\_logistic.py:469: ConvergenceWarning:\n",
      "\n",
      "lbfgs failed to converge (status=1):\n",
      "STOP: TOTAL NO. of ITERATIONS REACHED LIMIT.\n",
      "\n",
      "Increase the number of iterations (max_iter) or scale the data as shown in:\n",
      "    https://scikit-learn.org/stable/modules/preprocessing.html\n",
      "Please also refer to the documentation for alternative solver options:\n",
      "    https://scikit-learn.org/stable/modules/linear_model.html#logistic-regression\n",
      "\n",
      "c:\\Users\\Louis\\AppData\\Local\\Programs\\Python\\Python311\\Lib\\site-packages\\sklearn\\linear_model\\_logistic.py:469: ConvergenceWarning:\n",
      "\n",
      "lbfgs failed to converge (status=1):\n",
      "STOP: TOTAL NO. of ITERATIONS REACHED LIMIT.\n",
      "\n",
      "Increase the number of iterations (max_iter) or scale the data as shown in:\n",
      "    https://scikit-learn.org/stable/modules/preprocessing.html\n",
      "Please also refer to the documentation for alternative solver options:\n",
      "    https://scikit-learn.org/stable/modules/linear_model.html#logistic-regression\n",
      "\n",
      "c:\\Users\\Louis\\AppData\\Local\\Programs\\Python\\Python311\\Lib\\site-packages\\sklearn\\linear_model\\_logistic.py:469: ConvergenceWarning:\n",
      "\n",
      "lbfgs failed to converge (status=1):\n",
      "STOP: TOTAL NO. of ITERATIONS REACHED LIMIT.\n",
      "\n",
      "Increase the number of iterations (max_iter) or scale the data as shown in:\n",
      "    https://scikit-learn.org/stable/modules/preprocessing.html\n",
      "Please also refer to the documentation for alternative solver options:\n",
      "    https://scikit-learn.org/stable/modules/linear_model.html#logistic-regression\n",
      "\n",
      "c:\\Users\\Louis\\AppData\\Local\\Programs\\Python\\Python311\\Lib\\site-packages\\sklearn\\linear_model\\_logistic.py:469: ConvergenceWarning:\n",
      "\n",
      "lbfgs failed to converge (status=1):\n",
      "STOP: TOTAL NO. of ITERATIONS REACHED LIMIT.\n",
      "\n",
      "Increase the number of iterations (max_iter) or scale the data as shown in:\n",
      "    https://scikit-learn.org/stable/modules/preprocessing.html\n",
      "Please also refer to the documentation for alternative solver options:\n",
      "    https://scikit-learn.org/stable/modules/linear_model.html#logistic-regression\n",
      "\n",
      "c:\\Users\\Louis\\AppData\\Local\\Programs\\Python\\Python311\\Lib\\site-packages\\sklearn\\linear_model\\_logistic.py:469: ConvergenceWarning:\n",
      "\n",
      "lbfgs failed to converge (status=1):\n",
      "STOP: TOTAL NO. of ITERATIONS REACHED LIMIT.\n",
      "\n",
      "Increase the number of iterations (max_iter) or scale the data as shown in:\n",
      "    https://scikit-learn.org/stable/modules/preprocessing.html\n",
      "Please also refer to the documentation for alternative solver options:\n",
      "    https://scikit-learn.org/stable/modules/linear_model.html#logistic-regression\n",
      "\n",
      "c:\\Users\\Louis\\AppData\\Local\\Programs\\Python\\Python311\\Lib\\site-packages\\sklearn\\linear_model\\_logistic.py:469: ConvergenceWarning:\n",
      "\n",
      "lbfgs failed to converge (status=1):\n",
      "STOP: TOTAL NO. of ITERATIONS REACHED LIMIT.\n",
      "\n",
      "Increase the number of iterations (max_iter) or scale the data as shown in:\n",
      "    https://scikit-learn.org/stable/modules/preprocessing.html\n",
      "Please also refer to the documentation for alternative solver options:\n",
      "    https://scikit-learn.org/stable/modules/linear_model.html#logistic-regression\n",
      "\n",
      "c:\\Users\\Louis\\AppData\\Local\\Programs\\Python\\Python311\\Lib\\site-packages\\sklearn\\linear_model\\_logistic.py:469: ConvergenceWarning:\n",
      "\n",
      "lbfgs failed to converge (status=1):\n",
      "STOP: TOTAL NO. of ITERATIONS REACHED LIMIT.\n",
      "\n",
      "Increase the number of iterations (max_iter) or scale the data as shown in:\n",
      "    https://scikit-learn.org/stable/modules/preprocessing.html\n",
      "Please also refer to the documentation for alternative solver options:\n",
      "    https://scikit-learn.org/stable/modules/linear_model.html#logistic-regression\n",
      "\n",
      "c:\\Users\\Louis\\AppData\\Local\\Programs\\Python\\Python311\\Lib\\site-packages\\sklearn\\linear_model\\_logistic.py:469: ConvergenceWarning:\n",
      "\n",
      "lbfgs failed to converge (status=1):\n",
      "STOP: TOTAL NO. of ITERATIONS REACHED LIMIT.\n",
      "\n",
      "Increase the number of iterations (max_iter) or scale the data as shown in:\n",
      "    https://scikit-learn.org/stable/modules/preprocessing.html\n",
      "Please also refer to the documentation for alternative solver options:\n",
      "    https://scikit-learn.org/stable/modules/linear_model.html#logistic-regression\n",
      "\n",
      "c:\\Users\\Louis\\AppData\\Local\\Programs\\Python\\Python311\\Lib\\site-packages\\sklearn\\linear_model\\_logistic.py:469: ConvergenceWarning:\n",
      "\n",
      "lbfgs failed to converge (status=1):\n",
      "STOP: TOTAL NO. of ITERATIONS REACHED LIMIT.\n",
      "\n",
      "Increase the number of iterations (max_iter) or scale the data as shown in:\n",
      "    https://scikit-learn.org/stable/modules/preprocessing.html\n",
      "Please also refer to the documentation for alternative solver options:\n",
      "    https://scikit-learn.org/stable/modules/linear_model.html#logistic-regression\n",
      "\n",
      "c:\\Users\\Louis\\AppData\\Local\\Programs\\Python\\Python311\\Lib\\site-packages\\sklearn\\linear_model\\_logistic.py:469: ConvergenceWarning:\n",
      "\n",
      "lbfgs failed to converge (status=1):\n",
      "STOP: TOTAL NO. of ITERATIONS REACHED LIMIT.\n",
      "\n",
      "Increase the number of iterations (max_iter) or scale the data as shown in:\n",
      "    https://scikit-learn.org/stable/modules/preprocessing.html\n",
      "Please also refer to the documentation for alternative solver options:\n",
      "    https://scikit-learn.org/stable/modules/linear_model.html#logistic-regression\n",
      "\n",
      "c:\\Users\\Louis\\AppData\\Local\\Programs\\Python\\Python311\\Lib\\site-packages\\sklearn\\linear_model\\_logistic.py:469: ConvergenceWarning:\n",
      "\n",
      "lbfgs failed to converge (status=1):\n",
      "STOP: TOTAL NO. of ITERATIONS REACHED LIMIT.\n",
      "\n",
      "Increase the number of iterations (max_iter) or scale the data as shown in:\n",
      "    https://scikit-learn.org/stable/modules/preprocessing.html\n",
      "Please also refer to the documentation for alternative solver options:\n",
      "    https://scikit-learn.org/stable/modules/linear_model.html#logistic-regression\n",
      "\n",
      "c:\\Users\\Louis\\AppData\\Local\\Programs\\Python\\Python311\\Lib\\site-packages\\sklearn\\linear_model\\_logistic.py:469: ConvergenceWarning:\n",
      "\n",
      "lbfgs failed to converge (status=1):\n",
      "STOP: TOTAL NO. of ITERATIONS REACHED LIMIT.\n",
      "\n",
      "Increase the number of iterations (max_iter) or scale the data as shown in:\n",
      "    https://scikit-learn.org/stable/modules/preprocessing.html\n",
      "Please also refer to the documentation for alternative solver options:\n",
      "    https://scikit-learn.org/stable/modules/linear_model.html#logistic-regression\n",
      "\n",
      "c:\\Users\\Louis\\AppData\\Local\\Programs\\Python\\Python311\\Lib\\site-packages\\sklearn\\linear_model\\_logistic.py:469: ConvergenceWarning:\n",
      "\n",
      "lbfgs failed to converge (status=1):\n",
      "STOP: TOTAL NO. of ITERATIONS REACHED LIMIT.\n",
      "\n",
      "Increase the number of iterations (max_iter) or scale the data as shown in:\n",
      "    https://scikit-learn.org/stable/modules/preprocessing.html\n",
      "Please also refer to the documentation for alternative solver options:\n",
      "    https://scikit-learn.org/stable/modules/linear_model.html#logistic-regression\n",
      "\n",
      "c:\\Users\\Louis\\AppData\\Local\\Programs\\Python\\Python311\\Lib\\site-packages\\sklearn\\linear_model\\_logistic.py:469: ConvergenceWarning:\n",
      "\n",
      "lbfgs failed to converge (status=1):\n",
      "STOP: TOTAL NO. of ITERATIONS REACHED LIMIT.\n",
      "\n",
      "Increase the number of iterations (max_iter) or scale the data as shown in:\n",
      "    https://scikit-learn.org/stable/modules/preprocessing.html\n",
      "Please also refer to the documentation for alternative solver options:\n",
      "    https://scikit-learn.org/stable/modules/linear_model.html#logistic-regression\n",
      "\n",
      "c:\\Users\\Louis\\AppData\\Local\\Programs\\Python\\Python311\\Lib\\site-packages\\sklearn\\linear_model\\_logistic.py:469: ConvergenceWarning:\n",
      "\n",
      "lbfgs failed to converge (status=1):\n",
      "STOP: TOTAL NO. of ITERATIONS REACHED LIMIT.\n",
      "\n",
      "Increase the number of iterations (max_iter) or scale the data as shown in:\n",
      "    https://scikit-learn.org/stable/modules/preprocessing.html\n",
      "Please also refer to the documentation for alternative solver options:\n",
      "    https://scikit-learn.org/stable/modules/linear_model.html#logistic-regression\n",
      "\n",
      "c:\\Users\\Louis\\AppData\\Local\\Programs\\Python\\Python311\\Lib\\site-packages\\sklearn\\linear_model\\_logistic.py:469: ConvergenceWarning:\n",
      "\n",
      "lbfgs failed to converge (status=1):\n",
      "STOP: TOTAL NO. of ITERATIONS REACHED LIMIT.\n",
      "\n",
      "Increase the number of iterations (max_iter) or scale the data as shown in:\n",
      "    https://scikit-learn.org/stable/modules/preprocessing.html\n",
      "Please also refer to the documentation for alternative solver options:\n",
      "    https://scikit-learn.org/stable/modules/linear_model.html#logistic-regression\n",
      "\n",
      "c:\\Users\\Louis\\AppData\\Local\\Programs\\Python\\Python311\\Lib\\site-packages\\sklearn\\linear_model\\_logistic.py:469: ConvergenceWarning:\n",
      "\n",
      "lbfgs failed to converge (status=1):\n",
      "STOP: TOTAL NO. of ITERATIONS REACHED LIMIT.\n",
      "\n",
      "Increase the number of iterations (max_iter) or scale the data as shown in:\n",
      "    https://scikit-learn.org/stable/modules/preprocessing.html\n",
      "Please also refer to the documentation for alternative solver options:\n",
      "    https://scikit-learn.org/stable/modules/linear_model.html#logistic-regression\n",
      "\n",
      "c:\\Users\\Louis\\AppData\\Local\\Programs\\Python\\Python311\\Lib\\site-packages\\sklearn\\linear_model\\_logistic.py:469: ConvergenceWarning:\n",
      "\n",
      "lbfgs failed to converge (status=1):\n",
      "STOP: TOTAL NO. of ITERATIONS REACHED LIMIT.\n",
      "\n",
      "Increase the number of iterations (max_iter) or scale the data as shown in:\n",
      "    https://scikit-learn.org/stable/modules/preprocessing.html\n",
      "Please also refer to the documentation for alternative solver options:\n",
      "    https://scikit-learn.org/stable/modules/linear_model.html#logistic-regression\n",
      "\n",
      "c:\\Users\\Louis\\AppData\\Local\\Programs\\Python\\Python311\\Lib\\site-packages\\sklearn\\linear_model\\_logistic.py:469: ConvergenceWarning:\n",
      "\n",
      "lbfgs failed to converge (status=1):\n",
      "STOP: TOTAL NO. of ITERATIONS REACHED LIMIT.\n",
      "\n",
      "Increase the number of iterations (max_iter) or scale the data as shown in:\n",
      "    https://scikit-learn.org/stable/modules/preprocessing.html\n",
      "Please also refer to the documentation for alternative solver options:\n",
      "    https://scikit-learn.org/stable/modules/linear_model.html#logistic-regression\n",
      "\n",
      "c:\\Users\\Louis\\AppData\\Local\\Programs\\Python\\Python311\\Lib\\site-packages\\sklearn\\linear_model\\_logistic.py:469: ConvergenceWarning:\n",
      "\n",
      "lbfgs failed to converge (status=1):\n",
      "STOP: TOTAL NO. of ITERATIONS REACHED LIMIT.\n",
      "\n",
      "Increase the number of iterations (max_iter) or scale the data as shown in:\n",
      "    https://scikit-learn.org/stable/modules/preprocessing.html\n",
      "Please also refer to the documentation for alternative solver options:\n",
      "    https://scikit-learn.org/stable/modules/linear_model.html#logistic-regression\n",
      "\n",
      "c:\\Users\\Louis\\AppData\\Local\\Programs\\Python\\Python311\\Lib\\site-packages\\sklearn\\linear_model\\_logistic.py:469: ConvergenceWarning:\n",
      "\n",
      "lbfgs failed to converge (status=1):\n",
      "STOP: TOTAL NO. of ITERATIONS REACHED LIMIT.\n",
      "\n",
      "Increase the number of iterations (max_iter) or scale the data as shown in:\n",
      "    https://scikit-learn.org/stable/modules/preprocessing.html\n",
      "Please also refer to the documentation for alternative solver options:\n",
      "    https://scikit-learn.org/stable/modules/linear_model.html#logistic-regression\n",
      "\n",
      "c:\\Users\\Louis\\AppData\\Local\\Programs\\Python\\Python311\\Lib\\site-packages\\sklearn\\linear_model\\_logistic.py:469: ConvergenceWarning:\n",
      "\n",
      "lbfgs failed to converge (status=1):\n",
      "STOP: TOTAL NO. of ITERATIONS REACHED LIMIT.\n",
      "\n",
      "Increase the number of iterations (max_iter) or scale the data as shown in:\n",
      "    https://scikit-learn.org/stable/modules/preprocessing.html\n",
      "Please also refer to the documentation for alternative solver options:\n",
      "    https://scikit-learn.org/stable/modules/linear_model.html#logistic-regression\n",
      "\n"
     ]
    },
    {
     "data": {
      "application/vnd.plotly.v1+json": {
       "config": {
        "plotlyServerURL": "https://plot.ly"
       },
       "data": [
        {
         "alignmentgroup": "True",
         "hovertemplate": "feature=%{x}<br>importance=%{y}<extra></extra>",
         "legendgroup": "",
         "marker": {
          "color": "#636efa",
          "pattern": {
           "shape": ""
          }
         },
         "name": "",
         "offsetgroup": "",
         "orientation": "v",
         "showlegend": false,
         "textposition": "auto",
         "type": "bar",
         "x": [
          "num_years_antig",
          "activ_year",
          "ou__lxidpiddsbxsbosboudacockeimpuepw",
          "cs__foosdfpfkusacimwkcsosbicdxkicaua",
          "ou__kamkkxfxxuwbdslkwifmmcsiusiuosws",
          "end_year",
          "renewal_year",
          "Ratio_margin_per_cons",
          "offpeak_diff_dec_january_power",
          "var_year_price_mid_peak",
          "var_year_price_mid_peak_fix",
          "forecast_price_pow_off_peak",
          "var_year_price_off_peak_fix",
          "var_year_price_off_peak",
          "nb_prod_act",
          "var_year_price_peak_fix",
          "cs__lmkebamcaaclubfxadlmueccxoimlema",
          "Ratio_pow_1",
          "Ratio_pow_2",
          "has_gas",
          "var_6m_price_off_peak",
          "var_6m_price_off_peak_fix",
          "activ_day",
          "midpeak_diff_dec_january_power",
          "ou__ldkssxwpmemidmecebumciepifcamkci",
          "margin_net_pow_ele",
          "end_day",
          "margin_gross_pow_ele",
          "end_month",
          "renewal_month"
         ],
         "xaxis": "x",
         "y": [
          0.10590754127585043,
          0.06980858348703126,
          0.04795415101809744,
          0.04518816328386439,
          0.038772106396159835,
          0.036264659649179326,
          0.03488716273883785,
          0.03440143678391118,
          0.030327994832795364,
          0.024987512526702695,
          0.024987014560181837,
          0.022979775383005274,
          0.021396939393656875,
          0.021395590018166825,
          0.02129708491799932,
          0.021246586960632818,
          0.01923946699950322,
          0.01818677774135334,
          0.014074060745763124,
          0.013554244846245601,
          0.011425198209151962,
          0.0114226511107779,
          0.009968830402048991,
          0.00909322489293876,
          0.008579246017660816,
          0.005829243843289926,
          0.004794574970114276,
          0.004399459761755604,
          0.002568940358958993,
          0.002445360707598885
         ],
         "yaxis": "y"
        }
       ],
       "layout": {
        "barmode": "relative",
        "legend": {
         "tracegroupgap": 0
        },
        "margin": {
         "t": 60
        },
        "template": {
         "data": {
          "bar": [
           {
            "error_x": {
             "color": "#2a3f5f"
            },
            "error_y": {
             "color": "#2a3f5f"
            },
            "marker": {
             "line": {
              "color": "#E5ECF6",
              "width": 0.5
             },
             "pattern": {
              "fillmode": "overlay",
              "size": 10,
              "solidity": 0.2
             }
            },
            "type": "bar"
           }
          ],
          "barpolar": [
           {
            "marker": {
             "line": {
              "color": "#E5ECF6",
              "width": 0.5
             },
             "pattern": {
              "fillmode": "overlay",
              "size": 10,
              "solidity": 0.2
             }
            },
            "type": "barpolar"
           }
          ],
          "carpet": [
           {
            "aaxis": {
             "endlinecolor": "#2a3f5f",
             "gridcolor": "white",
             "linecolor": "white",
             "minorgridcolor": "white",
             "startlinecolor": "#2a3f5f"
            },
            "baxis": {
             "endlinecolor": "#2a3f5f",
             "gridcolor": "white",
             "linecolor": "white",
             "minorgridcolor": "white",
             "startlinecolor": "#2a3f5f"
            },
            "type": "carpet"
           }
          ],
          "choropleth": [
           {
            "colorbar": {
             "outlinewidth": 0,
             "ticks": ""
            },
            "type": "choropleth"
           }
          ],
          "contour": [
           {
            "colorbar": {
             "outlinewidth": 0,
             "ticks": ""
            },
            "colorscale": [
             [
              0,
              "#0d0887"
             ],
             [
              0.1111111111111111,
              "#46039f"
             ],
             [
              0.2222222222222222,
              "#7201a8"
             ],
             [
              0.3333333333333333,
              "#9c179e"
             ],
             [
              0.4444444444444444,
              "#bd3786"
             ],
             [
              0.5555555555555556,
              "#d8576b"
             ],
             [
              0.6666666666666666,
              "#ed7953"
             ],
             [
              0.7777777777777778,
              "#fb9f3a"
             ],
             [
              0.8888888888888888,
              "#fdca26"
             ],
             [
              1,
              "#f0f921"
             ]
            ],
            "type": "contour"
           }
          ],
          "contourcarpet": [
           {
            "colorbar": {
             "outlinewidth": 0,
             "ticks": ""
            },
            "type": "contourcarpet"
           }
          ],
          "heatmap": [
           {
            "colorbar": {
             "outlinewidth": 0,
             "ticks": ""
            },
            "colorscale": [
             [
              0,
              "#0d0887"
             ],
             [
              0.1111111111111111,
              "#46039f"
             ],
             [
              0.2222222222222222,
              "#7201a8"
             ],
             [
              0.3333333333333333,
              "#9c179e"
             ],
             [
              0.4444444444444444,
              "#bd3786"
             ],
             [
              0.5555555555555556,
              "#d8576b"
             ],
             [
              0.6666666666666666,
              "#ed7953"
             ],
             [
              0.7777777777777778,
              "#fb9f3a"
             ],
             [
              0.8888888888888888,
              "#fdca26"
             ],
             [
              1,
              "#f0f921"
             ]
            ],
            "type": "heatmap"
           }
          ],
          "heatmapgl": [
           {
            "colorbar": {
             "outlinewidth": 0,
             "ticks": ""
            },
            "colorscale": [
             [
              0,
              "#0d0887"
             ],
             [
              0.1111111111111111,
              "#46039f"
             ],
             [
              0.2222222222222222,
              "#7201a8"
             ],
             [
              0.3333333333333333,
              "#9c179e"
             ],
             [
              0.4444444444444444,
              "#bd3786"
             ],
             [
              0.5555555555555556,
              "#d8576b"
             ],
             [
              0.6666666666666666,
              "#ed7953"
             ],
             [
              0.7777777777777778,
              "#fb9f3a"
             ],
             [
              0.8888888888888888,
              "#fdca26"
             ],
             [
              1,
              "#f0f921"
             ]
            ],
            "type": "heatmapgl"
           }
          ],
          "histogram": [
           {
            "marker": {
             "pattern": {
              "fillmode": "overlay",
              "size": 10,
              "solidity": 0.2
             }
            },
            "type": "histogram"
           }
          ],
          "histogram2d": [
           {
            "colorbar": {
             "outlinewidth": 0,
             "ticks": ""
            },
            "colorscale": [
             [
              0,
              "#0d0887"
             ],
             [
              0.1111111111111111,
              "#46039f"
             ],
             [
              0.2222222222222222,
              "#7201a8"
             ],
             [
              0.3333333333333333,
              "#9c179e"
             ],
             [
              0.4444444444444444,
              "#bd3786"
             ],
             [
              0.5555555555555556,
              "#d8576b"
             ],
             [
              0.6666666666666666,
              "#ed7953"
             ],
             [
              0.7777777777777778,
              "#fb9f3a"
             ],
             [
              0.8888888888888888,
              "#fdca26"
             ],
             [
              1,
              "#f0f921"
             ]
            ],
            "type": "histogram2d"
           }
          ],
          "histogram2dcontour": [
           {
            "colorbar": {
             "outlinewidth": 0,
             "ticks": ""
            },
            "colorscale": [
             [
              0,
              "#0d0887"
             ],
             [
              0.1111111111111111,
              "#46039f"
             ],
             [
              0.2222222222222222,
              "#7201a8"
             ],
             [
              0.3333333333333333,
              "#9c179e"
             ],
             [
              0.4444444444444444,
              "#bd3786"
             ],
             [
              0.5555555555555556,
              "#d8576b"
             ],
             [
              0.6666666666666666,
              "#ed7953"
             ],
             [
              0.7777777777777778,
              "#fb9f3a"
             ],
             [
              0.8888888888888888,
              "#fdca26"
             ],
             [
              1,
              "#f0f921"
             ]
            ],
            "type": "histogram2dcontour"
           }
          ],
          "mesh3d": [
           {
            "colorbar": {
             "outlinewidth": 0,
             "ticks": ""
            },
            "type": "mesh3d"
           }
          ],
          "parcoords": [
           {
            "line": {
             "colorbar": {
              "outlinewidth": 0,
              "ticks": ""
             }
            },
            "type": "parcoords"
           }
          ],
          "pie": [
           {
            "automargin": true,
            "type": "pie"
           }
          ],
          "scatter": [
           {
            "fillpattern": {
             "fillmode": "overlay",
             "size": 10,
             "solidity": 0.2
            },
            "type": "scatter"
           }
          ],
          "scatter3d": [
           {
            "line": {
             "colorbar": {
              "outlinewidth": 0,
              "ticks": ""
             }
            },
            "marker": {
             "colorbar": {
              "outlinewidth": 0,
              "ticks": ""
             }
            },
            "type": "scatter3d"
           }
          ],
          "scattercarpet": [
           {
            "marker": {
             "colorbar": {
              "outlinewidth": 0,
              "ticks": ""
             }
            },
            "type": "scattercarpet"
           }
          ],
          "scattergeo": [
           {
            "marker": {
             "colorbar": {
              "outlinewidth": 0,
              "ticks": ""
             }
            },
            "type": "scattergeo"
           }
          ],
          "scattergl": [
           {
            "marker": {
             "colorbar": {
              "outlinewidth": 0,
              "ticks": ""
             }
            },
            "type": "scattergl"
           }
          ],
          "scattermapbox": [
           {
            "marker": {
             "colorbar": {
              "outlinewidth": 0,
              "ticks": ""
             }
            },
            "type": "scattermapbox"
           }
          ],
          "scatterpolar": [
           {
            "marker": {
             "colorbar": {
              "outlinewidth": 0,
              "ticks": ""
             }
            },
            "type": "scatterpolar"
           }
          ],
          "scatterpolargl": [
           {
            "marker": {
             "colorbar": {
              "outlinewidth": 0,
              "ticks": ""
             }
            },
            "type": "scatterpolargl"
           }
          ],
          "scatterternary": [
           {
            "marker": {
             "colorbar": {
              "outlinewidth": 0,
              "ticks": ""
             }
            },
            "type": "scatterternary"
           }
          ],
          "surface": [
           {
            "colorbar": {
             "outlinewidth": 0,
             "ticks": ""
            },
            "colorscale": [
             [
              0,
              "#0d0887"
             ],
             [
              0.1111111111111111,
              "#46039f"
             ],
             [
              0.2222222222222222,
              "#7201a8"
             ],
             [
              0.3333333333333333,
              "#9c179e"
             ],
             [
              0.4444444444444444,
              "#bd3786"
             ],
             [
              0.5555555555555556,
              "#d8576b"
             ],
             [
              0.6666666666666666,
              "#ed7953"
             ],
             [
              0.7777777777777778,
              "#fb9f3a"
             ],
             [
              0.8888888888888888,
              "#fdca26"
             ],
             [
              1,
              "#f0f921"
             ]
            ],
            "type": "surface"
           }
          ],
          "table": [
           {
            "cells": {
             "fill": {
              "color": "#EBF0F8"
             },
             "line": {
              "color": "white"
             }
            },
            "header": {
             "fill": {
              "color": "#C8D4E3"
             },
             "line": {
              "color": "white"
             }
            },
            "type": "table"
           }
          ]
         },
         "layout": {
          "annotationdefaults": {
           "arrowcolor": "#2a3f5f",
           "arrowhead": 0,
           "arrowwidth": 1
          },
          "autotypenumbers": "strict",
          "coloraxis": {
           "colorbar": {
            "outlinewidth": 0,
            "ticks": ""
           }
          },
          "colorscale": {
           "diverging": [
            [
             0,
             "#8e0152"
            ],
            [
             0.1,
             "#c51b7d"
            ],
            [
             0.2,
             "#de77ae"
            ],
            [
             0.3,
             "#f1b6da"
            ],
            [
             0.4,
             "#fde0ef"
            ],
            [
             0.5,
             "#f7f7f7"
            ],
            [
             0.6,
             "#e6f5d0"
            ],
            [
             0.7,
             "#b8e186"
            ],
            [
             0.8,
             "#7fbc41"
            ],
            [
             0.9,
             "#4d9221"
            ],
            [
             1,
             "#276419"
            ]
           ],
           "sequential": [
            [
             0,
             "#0d0887"
            ],
            [
             0.1111111111111111,
             "#46039f"
            ],
            [
             0.2222222222222222,
             "#7201a8"
            ],
            [
             0.3333333333333333,
             "#9c179e"
            ],
            [
             0.4444444444444444,
             "#bd3786"
            ],
            [
             0.5555555555555556,
             "#d8576b"
            ],
            [
             0.6666666666666666,
             "#ed7953"
            ],
            [
             0.7777777777777778,
             "#fb9f3a"
            ],
            [
             0.8888888888888888,
             "#fdca26"
            ],
            [
             1,
             "#f0f921"
            ]
           ],
           "sequentialminus": [
            [
             0,
             "#0d0887"
            ],
            [
             0.1111111111111111,
             "#46039f"
            ],
            [
             0.2222222222222222,
             "#7201a8"
            ],
            [
             0.3333333333333333,
             "#9c179e"
            ],
            [
             0.4444444444444444,
             "#bd3786"
            ],
            [
             0.5555555555555556,
             "#d8576b"
            ],
            [
             0.6666666666666666,
             "#ed7953"
            ],
            [
             0.7777777777777778,
             "#fb9f3a"
            ],
            [
             0.8888888888888888,
             "#fdca26"
            ],
            [
             1,
             "#f0f921"
            ]
           ]
          },
          "colorway": [
           "#636efa",
           "#EF553B",
           "#00cc96",
           "#ab63fa",
           "#FFA15A",
           "#19d3f3",
           "#FF6692",
           "#B6E880",
           "#FF97FF",
           "#FECB52"
          ],
          "font": {
           "color": "#2a3f5f"
          },
          "geo": {
           "bgcolor": "white",
           "lakecolor": "white",
           "landcolor": "#E5ECF6",
           "showlakes": true,
           "showland": true,
           "subunitcolor": "white"
          },
          "hoverlabel": {
           "align": "left"
          },
          "hovermode": "closest",
          "mapbox": {
           "style": "light"
          },
          "paper_bgcolor": "white",
          "plot_bgcolor": "#E5ECF6",
          "polar": {
           "angularaxis": {
            "gridcolor": "white",
            "linecolor": "white",
            "ticks": ""
           },
           "bgcolor": "#E5ECF6",
           "radialaxis": {
            "gridcolor": "white",
            "linecolor": "white",
            "ticks": ""
           }
          },
          "scene": {
           "xaxis": {
            "backgroundcolor": "#E5ECF6",
            "gridcolor": "white",
            "gridwidth": 2,
            "linecolor": "white",
            "showbackground": true,
            "ticks": "",
            "zerolinecolor": "white"
           },
           "yaxis": {
            "backgroundcolor": "#E5ECF6",
            "gridcolor": "white",
            "gridwidth": 2,
            "linecolor": "white",
            "showbackground": true,
            "ticks": "",
            "zerolinecolor": "white"
           },
           "zaxis": {
            "backgroundcolor": "#E5ECF6",
            "gridcolor": "white",
            "gridwidth": 2,
            "linecolor": "white",
            "showbackground": true,
            "ticks": "",
            "zerolinecolor": "white"
           }
          },
          "shapedefaults": {
           "line": {
            "color": "#2a3f5f"
           }
          },
          "ternary": {
           "aaxis": {
            "gridcolor": "white",
            "linecolor": "white",
            "ticks": ""
           },
           "baxis": {
            "gridcolor": "white",
            "linecolor": "white",
            "ticks": ""
           },
           "bgcolor": "#E5ECF6",
           "caxis": {
            "gridcolor": "white",
            "linecolor": "white",
            "ticks": ""
           }
          },
          "title": {
           "x": 0.05
          },
          "xaxis": {
           "automargin": true,
           "gridcolor": "white",
           "linecolor": "white",
           "ticks": "",
           "title": {
            "standoff": 15
           },
           "zerolinecolor": "white",
           "zerolinewidth": 2
          },
          "yaxis": {
           "automargin": true,
           "gridcolor": "white",
           "linecolor": "white",
           "ticks": "",
           "title": {
            "standoff": 15
           },
           "zerolinecolor": "white",
           "zerolinewidth": 2
          }
         }
        },
        "xaxis": {
         "anchor": "y",
         "domain": [
          0,
          1
         ],
         "tickangle": -45,
         "title": {
          "text": "feature"
         }
        },
        "yaxis": {
         "anchor": "x",
         "domain": [
          0,
          1
         ],
         "title": {
          "text": "importance"
         }
        }
       }
      }
     },
     "metadata": {},
     "output_type": "display_data"
    }
   ],
   "source": [
    "from sklearn.linear_model import LogisticRegression\n",
    "\n",
    "estimator = LogisticRegression()\n",
    "\n",
    "selector = RFE(estimator=estimator, n_features_to_select=30, step=1)\n",
    "selector.fit(X_train, y_train)\n",
    "\n",
    "ranking_df = pd.DataFrame({'feature': X_train.columns, 'ranking': selector.ranking_})\n",
    "selected = ranking_df[ranking_df['ranking'] == 1]['feature']\n",
    "if hasattr(selector.estimator_, 'coef_'):\n",
    "    importances = dict(zip(selected, abs(selector.estimator_.coef_[0])))\n",
    "elif hasattr(selector.estimator_, 'feature_importances_'):\n",
    "    importances = dict(zip(selected, selector.estimator_.feature_importances_))\n",
    "importance_df = pd.DataFrame({'feature': list(importances.keys()), 'importance': list(importances.values())})\n",
    "importance_df = importance_df.sort_values('importance', ascending=False)\n",
    "\n",
    "fig = px.bar(importance_df, x='feature', y='importance')\n",
    "fig.update_layout(xaxis_tickangle=-45)\n",
    "fig.show()"
   ]
  },
  {
   "cell_type": "code",
   "execution_count": 79,
   "metadata": {},
   "outputs": [],
   "source": [
    "X = df_results.drop(columns=['id', 'churn'])\n",
    "y = df_results['churn']\n",
    "selected_features = X.columns[selector.support_]\n",
    "X_selected = X[selected_features]\n",
    "\n",
    "X_train_selected, X_test_selected, y_train, y_test = train_test_split(\n",
    "    X_selected, y, test_size=0.2, random_state=7\n",
    ")"
   ]
  },
  {
   "cell_type": "code",
   "execution_count": 80,
   "metadata": {},
   "outputs": [
    {
     "name": "stdout",
     "output_type": "stream",
     "text": [
      "{0: 0.5540591805766313, 1: 5.124561403508772}\n",
      "Test-set ROC-AUC with class weights: 0.668\n"
     ]
    }
   ],
   "source": [
    "scaler = StandardScaler()\n",
    "\n",
    "\n",
    "weights = class_weight.compute_class_weight(class_weight='balanced', classes=np.unique(y), y=y_train)\n",
    "class_weights = {cls: wt for cls, wt in zip(np.unique(y_train), weights)}\n",
    "print(class_weights)\n",
    "\n",
    "scaler.fit_transform(X_train_selected, y_train)\n",
    "scaler.transform(X_test_selected)\n",
    "\n",
    "model = RandomForestClassifier(n_estimators=100, max_depth=10, random_state=7, class_weight=class_weights)\n",
    "model.fit(X_train_selected, y_train)\n",
    "\n",
    "\n",
    "y_proba = model.predict_proba(X_test_selected)[:, 1]\n",
    "\n",
    "auc = roc_auc_score(y_test, y_proba)\n",
    "print(f\"Test-set ROC-AUC with class weights: {auc:.3f}\")"
   ]
  },
  {
   "cell_type": "code",
   "execution_count": 81,
   "metadata": {},
   "outputs": [
    {
     "data": {
      "application/vnd.plotly.v1+json": {
       "config": {
        "plotlyServerURL": "https://plot.ly"
       },
       "data": [
        {
         "mode": "lines",
         "name": "ROC Curve",
         "type": "scatter",
         "x": [
          0,
          0.00037835792659856227,
          0.00037835792659856227,
          0.0007567158531971245,
          0.0007567158531971245,
          0.0011350737797956867,
          0.0011350737797956867,
          0.0011350737797956867,
          0.001513431706394249,
          0.001513431706394249,
          0.0018917896329928112,
          0.0018917896329928112,
          0.0022701475595913734,
          0.0022701475595913734,
          0.00340522133938706,
          0.00340522133938706,
          0.004161937192584185,
          0.004161937192584185,
          0.004918653045781309,
          0.004918653045781309,
          0.0056753688989784334,
          0.0056753688989784334,
          0.007567158531971245,
          0.007567158531971245,
          0.009080590238365494,
          0.009080590238365494,
          0.009458948164964056,
          0.009458948164964056,
          0.009837306091562617,
          0.009837306091562617,
          0.01021566401816118,
          0.01021566401816118,
          0.011350737797956867,
          0.011350737797956867,
          0.01172909572455543,
          0.01172909572455543,
          0.012107453651153992,
          0.012107453651153992,
          0.014755959137343927,
          0.014755959137343927,
          0.018539538403329548,
          0.018539538403329548,
          0.02080968596292092,
          0.02080968596292092,
          0.021188043889519486,
          0.021188043889519486,
          0.022701475595913734,
          0.022701475595913734,
          0.0230798335225123,
          0.0230798335225123,
          0.024971623155505107,
          0.024971623155505107,
          0.02686341278849792,
          0.02686341278849792,
          0.02724177071509648,
          0.02724177071509648,
          0.027620128641695045,
          0.028755202421490732,
          0.03064699205448354,
          0.03064699205448354,
          0.031025349981082105,
          0.031025349981082105,
          0.03216042376087779,
          0.03216042376087779,
          0.03518728717366629,
          0.03518728717366629,
          0.03556564510026485,
          0.03556564510026485,
          0.037079076806659096,
          0.037079076806659096,
          0.03745743473325766,
          0.03745743473325766,
          0.03934922436625047,
          0.03934922436625047,
          0.04161937192584184,
          0.04161937192584184,
          0.043132803632236094,
          0.043132803632236094,
          0.0461596670450246,
          0.0461596670450246,
          0.048051456678017405,
          0.048051456678017405,
          0.049943246311010214,
          0.049943246311010214,
          0.0510783200908059,
          0.0510783200908059,
          0.051456678017404466,
          0.051456678017404466,
          0.05221339387060159,
          0.05221339387060159,
          0.0541051835035944,
          0.0541051835035944,
          0.05448354143019296,
          0.05448354143019296,
          0.05788876276958002,
          0.05788876276958002,
          0.05940219447597427,
          0.05940219447597427,
          0.06242905788876277,
          0.06242905788876277,
          0.06583427922814983,
          0.06583427922814983,
          0.0681044267877412,
          0.0681044267877412,
          0.06886114264093833,
          0.06886114264093833,
          0.06961785849413545,
          0.06961785849413545,
          0.07188800605372682,
          0.07188800605372682,
          0.07453651153991676,
          0.07453651153991676,
          0.07680665909950814,
          0.07680665909950814,
          0.0802118804388952,
          0.0802118804388952,
          0.08059023836549375,
          0.08059023836549375,
          0.08286038592508513,
          0.08286038592508513,
          0.08399545970488081,
          0.08399545970488081,
          0.08588724933787363,
          0.08588724933787363,
          0.088157396897465,
          0.088157396897465,
          0.094211123723042,
          0.094211123723042,
          0.09458948164964057,
          0.09458948164964057,
          0.09685962920923194,
          0.09685962920923194,
          0.09761634506242906,
          0.09761634506242906,
          0.09837306091562618,
          0.09837306091562618,
          0.09912977676882331,
          0.09912977676882331,
          0.09950813469542187,
          0.09950813469542187,
          0.1112372304199773,
          0.1112372304199773,
          0.11161558834657587,
          0.11161558834657587,
          0.11653424139235717,
          0.11653424139235717,
          0.12296632614453273,
          0.12296632614453273,
          0.1252364737041241,
          0.1252364737041241,
          0.13166855845629966,
          0.13166855845629966,
          0.13280363223609534,
          0.13280363223609534,
          0.1381006432084752,
          0.1381006432084752,
          0.13961407491486946,
          0.13961407491486946,
          0.15361331819901627,
          0.15361331819901627,
          0.1611804767309875,
          0.1611804767309875,
          0.1623155505107832,
          0.1623155505107832,
          0.16345062429057888,
          0.164207340143776,
          0.16799091940976163,
          0.16799091940976163,
          0.1695043511161559,
          0.1695043511161559,
          0.16988270904275446,
          0.16988270904275446,
          0.17063942489595157,
          0.17063942489595157,
          0.1713961407491487,
          0.1713961407491487,
          0.17972001513431707,
          0.17972001513431707,
          0.18388195232690124,
          0.18388195232690124,
          0.1865304578130912,
          0.1865304578130912,
          0.18880060537268256,
          0.18880060537268256,
          0.18917896329928113,
          0.18917896329928113,
          0.1933409004918653,
          0.1933409004918653,
          0.194475974271661,
          0.194475974271661,
          0.19598940597805525,
          0.19598940597805525,
          0.20317820658342792,
          0.20317820658342792,
          0.2035565645100265,
          0.2035565645100265,
          0.20506999621642075,
          0.20506999621642075,
          0.20998864926220204,
          0.20998864926220204,
          0.21377222852818767,
          0.21377222852818767,
          0.218690881573969,
          0.218690881573969,
          0.2194475974271661,
          0.2194475974271661,
          0.22398789254634885,
          0.22398789254634885,
          0.23117669315172154,
          0.23117669315172154,
          0.23269012485811577,
          0.23269012485811577,
          0.23912220961029135,
          0.23912220961029135,
          0.25501324252743096,
          0.25501324252743096,
          0.2633371169125993,
          0.2633371169125993,
          0.264472190692395,
          0.264472190692395,
          0.2652289065455921,
          0.2652289065455921,
          0.26636398032538783,
          0.26636398032538783,
          0.270525917517972,
          0.270525917517972,
          0.27203934922436623,
          0.27203934922436623,
          0.2754445705637533,
          0.2754445705637533,
          0.276579644343549,
          0.276579644343549,
          0.28414680287552024,
          0.28414680287552024,
          0.28717366628830876,
          0.28717366628830876,
          0.2917139614074915,
          0.2917139614074915,
          0.2954975406734771,
          0.29625425652667425,
          0.2985244040862656,
          0.2985244040862656,
          0.2992811199394627,
          0.2992811199394627,
          0.3076049943246311,
          0.3076049943246311,
          0.3094967839576239,
          0.3094967839576239,
          0.31214528944381387,
          0.31214528944381387,
          0.3136587211502081,
          0.3136587211502081,
          0.3193340900491865,
          0.3193340900491865,
          0.32009080590238365,
          0.32009080590238365,
          0.32122587968217936,
          0.32122587968217936,
          0.3216042376087779,
          0.3216042376087779,
          0.32311766931517216,
          0.32311766931517216,
          0.32727960650775634,
          0.32727960650775634,
          0.33219825955353766,
          0.33219825955353766,
          0.33446840711312903,
          0.33446840711312903,
          0.33522512296632617,
          0.33522512296632617,
          0.33787362845251606,
          0.33787362845251606,
          0.3420355656451003,
          0.3420355656451003,
          0.3427922814982974,
          0.3427922814982974,
          0.35906167234203556,
          0.35906167234203556,
          0.3598183881952327,
          0.3598183881952327,
          0.36511539916761254,
          0.36511539916761254,
          0.3730609156261824,
          0.3730609156261824,
          0.3787362845251608,
          0.3787362845251608,
          0.3817631479379493,
          0.38251986379114644,
          0.3938706015891033,
          0.3938706015891033,
          0.3946273174423004,
          0.3946273174423004,
          0.39841089670828606,
          0.39841089670828606,
          0.40219447597427166,
          0.4029511918274688,
          0.4116534241392357,
          0.4116534241392357,
          0.4135452137722285,
          0.4135452137722285,
          0.41505864547862276,
          0.41505864547862276,
          0.4195989405978055,
          0.4195989405978055,
          0.43624668936814226,
          0.43624668936814226,
          0.44532727960650775,
          0.44532727960650775,
          0.44873250094589484,
          0.44948921679909193,
          0.4608399545970488,
          0.4608399545970488,
          0.4695421869088157,
          0.4695421869088157,
          0.4778660612939841,
          0.4778660612939841,
          0.4858115777525539,
          0.4858115777525539,
          0.4877033673855467,
          0.4877033673855467,
          0.4880817253121453,
          0.4880817253121453,
          0.49224366250472945,
          0.49224366250472945,
          0.4930003783579266,
          0.4930003783579266,
          0.49527052591751797,
          0.49527052591751797,
          0.49867574725690506,
          0.49867574725690506,
          0.49943246311010214,
          0.5020809685962921,
          0.5020809685962921,
          0.5062429057888763,
          0.5062429057888763,
          0.5073779795686719,
          0.5073779795686719,
          0.5100264850548619,
          0.5100264850548619,
          0.5183503594400303,
          0.5183503594400303,
          0.5240257283390087,
          0.5240257283390087,
          0.5297010972379871,
          0.5297010972379871,
          0.5312145289443814,
          0.5312145289443814,
          0.5346197502837684,
          0.5346197502837684,
          0.5421869088157397,
          0.5421869088157397,
          0.5508891411275066,
          0.5508891411275066,
          0.5584562996594779,
          0.559213015512675,
          0.5709421112372304,
          0.5709421112372304,
          0.571320469163829,
          0.571320469163829,
          0.5788876276958003,
          0.5796443435489973,
          0.5845629965947786,
          0.5845629965947786,
          0.5860764283011729,
          0.5860764283011729,
          0.5872115020809686,
          0.5872115020809686,
          0.5951570185395384,
          0.5951570185395384,
          0.6000756715853197,
          0.6000756715853197,
          0.620506999621642,
          0.620506999621642,
          0.6239122209610292,
          0.6239122209610292,
          0.6242905788876277,
          0.6242905788876277,
          0.6382898221717745,
          0.6382898221717745,
          0.6398032538781687,
          0.6398032538781687,
          0.6458569807037458,
          0.6458569807037458,
          0.6541808550889141,
          0.6541808550889141,
          0.6572077185017026,
          0.6572077185017026,
          0.659477866061294,
          0.659477866061294,
          0.6617480136208853,
          0.6617480136208853,
          0.6678017404464623,
          0.6678017404464623,
          0.6696935300794552,
          0.6696935300794552,
          0.6712069617858494,
          0.6712069617858494,
          0.6734771093454408,
          0.6734771093454408,
          0.6806659099508134,
          0.6806659099508134,
          0.6825576995838063,
          0.6833144154370034,
          0.6901248581157775,
          0.6901248581157775,
          0.6965569428679531,
          0.6965569428679531,
          0.699205448354143,
          0.699205448354143,
          0.7075293227393114,
          0.7075293227393114,
          0.7188800605372683,
          0.7188800605372683,
          0.7332576617480137,
          0.7332576617480137,
          0.7377979568671964,
          0.7377979568671964,
          0.7453651153991676,
          0.7453651153991676,
          0.7483919788119561,
          0.7483919788119561,
          0.753688989784336,
          0.753688989784336,
          0.7623912220961029,
          0.7623912220961029,
          0.7654180855088915,
          0.7654180855088915,
          0.7771471812334468,
          0.7771471812334468,
          0.7786606129398411,
          0.7786606129398411,
          0.7816874763526296,
          0.7816874763526296,
          0.7884979190314038,
          0.7884979190314038,
          0.7919031403707908,
          0.7919031403707908,
          0.7941732879303821,
          0.7941732879303821,
          0.8051456678017405,
          0.8059023836549376,
          0.8123344684071131,
          0.8123344684071131,
          0.8183881952326901,
          0.8183881952326901,
          0.8195232690124858,
          0.8195232690124858,
          0.8240635641316686,
          0.8248202799848657,
          0.827090427544457,
          0.827090427544457,
          0.8301172909572455,
          0.8308740068104427,
          0.8316307226636398,
          0.8316307226636398,
          0.8350359440030268,
          0.8350359440030268,
          0.8380628074158154,
          0.8380628074158154,
          0.838441165342414,
          0.838441165342414,
          0.8407113129020053,
          0.8407113129020053,
          0.8437381763147938,
          0.8437381763147938,
          0.8535754824063564,
          0.8535754824063564,
          0.8944381384790011,
          0.8944381384790011,
          0.8959515701853954,
          0.8967082860385925,
          0.9027620128641695,
          0.9027620128641695,
          0.9201664774877034,
          0.9201664774877034,
          0.9591373439273553,
          0.9591373439273553,
          0.9629209231933409,
          0.9629209231933409,
          0.9720015134317064,
          0.9720015134317064,
          0.9829738933030647,
          0.9829738933030647,
          0.9844873250094589,
          0.9844873250094589,
          0.985244040862656,
          0.9920544835414302,
          0.9935679152478244,
          0.9954597048808173,
          0.9962164207340144,
          1
         ],
         "y": [
          0,
          0,
          0.010752688172043012,
          0.010752688172043012,
          0.014336917562724014,
          0.014336917562724014,
          0.021505376344086023,
          0.02867383512544803,
          0.02867383512544803,
          0.03942652329749104,
          0.03942652329749104,
          0.05734767025089606,
          0.05734767025089606,
          0.06093189964157706,
          0.06093189964157706,
          0.06810035842293907,
          0.06810035842293907,
          0.07168458781362007,
          0.07168458781362007,
          0.07526881720430108,
          0.07526881720430108,
          0.07885304659498207,
          0.07885304659498207,
          0.08243727598566308,
          0.08243727598566308,
          0.08602150537634409,
          0.08602150537634409,
          0.08960573476702509,
          0.08960573476702509,
          0.0931899641577061,
          0.0931899641577061,
          0.1003584229390681,
          0.1003584229390681,
          0.10752688172043011,
          0.10752688172043011,
          0.1111111111111111,
          0.1111111111111111,
          0.11469534050179211,
          0.11469534050179211,
          0.11827956989247312,
          0.11827956989247312,
          0.12186379928315412,
          0.12186379928315412,
          0.12903225806451613,
          0.12903225806451613,
          0.13261648745519714,
          0.13261648745519714,
          0.13620071684587814,
          0.13620071684587814,
          0.13978494623655913,
          0.13978494623655913,
          0.14336917562724014,
          0.14336917562724014,
          0.14695340501792115,
          0.14695340501792115,
          0.15412186379928317,
          0.15412186379928317,
          0.15412186379928317,
          0.15412186379928317,
          0.15770609318996415,
          0.15770609318996415,
          0.16129032258064516,
          0.16129032258064516,
          0.16487455197132617,
          0.16487455197132617,
          0.16845878136200718,
          0.16845878136200718,
          0.17204301075268819,
          0.17204301075268819,
          0.17562724014336917,
          0.17562724014336917,
          0.17921146953405018,
          0.17921146953405018,
          0.1827956989247312,
          0.1827956989247312,
          0.1863799283154122,
          0.1863799283154122,
          0.18996415770609318,
          0.18996415770609318,
          0.1935483870967742,
          0.1935483870967742,
          0.1971326164874552,
          0.1971326164874552,
          0.20430107526881722,
          0.20430107526881722,
          0.2078853046594982,
          0.2078853046594982,
          0.2222222222222222,
          0.2222222222222222,
          0.22580645161290322,
          0.22580645161290322,
          0.23297491039426524,
          0.23297491039426524,
          0.23655913978494625,
          0.23655913978494625,
          0.24014336917562723,
          0.24014336917562723,
          0.24372759856630824,
          0.24372759856630824,
          0.24731182795698925,
          0.24731182795698925,
          0.25806451612903225,
          0.25806451612903225,
          0.2616487455197133,
          0.2616487455197133,
          0.26523297491039427,
          0.26523297491039427,
          0.2724014336917563,
          0.2724014336917563,
          0.27598566308243727,
          0.27598566308243727,
          0.27956989247311825,
          0.27956989247311825,
          0.2831541218637993,
          0.2831541218637993,
          0.2867383512544803,
          0.2867383512544803,
          0.2939068100358423,
          0.2939068100358423,
          0.2974910394265233,
          0.2974910394265233,
          0.3010752688172043,
          0.3010752688172043,
          0.3046594982078853,
          0.3046594982078853,
          0.30824372759856633,
          0.30824372759856633,
          0.3118279569892473,
          0.3118279569892473,
          0.3154121863799283,
          0.3154121863799283,
          0.31899641577060933,
          0.31899641577060933,
          0.3225806451612903,
          0.3225806451612903,
          0.32974910394265233,
          0.32974910394265233,
          0.3333333333333333,
          0.3333333333333333,
          0.33691756272401435,
          0.33691756272401435,
          0.34050179211469533,
          0.34050179211469533,
          0.34408602150537637,
          0.34408602150537637,
          0.34767025089605735,
          0.34767025089605735,
          0.35125448028673834,
          0.35125448028673834,
          0.3548387096774194,
          0.3548387096774194,
          0.35842293906810035,
          0.35842293906810035,
          0.36200716845878134,
          0.36200716845878134,
          0.36917562724014336,
          0.36917562724014336,
          0.3727598566308244,
          0.3727598566308244,
          0.3763440860215054,
          0.3763440860215054,
          0.37992831541218636,
          0.37992831541218636,
          0.3835125448028674,
          0.3835125448028674,
          0.3835125448028674,
          0.3835125448028674,
          0.3870967741935484,
          0.3870967741935484,
          0.3942652329749104,
          0.3942652329749104,
          0.4014336917562724,
          0.4014336917562724,
          0.4050179211469534,
          0.4050179211469534,
          0.40860215053763443,
          0.40860215053763443,
          0.4121863799283154,
          0.4121863799283154,
          0.4157706093189964,
          0.4157706093189964,
          0.41935483870967744,
          0.41935483870967744,
          0.4265232974910394,
          0.4265232974910394,
          0.43010752688172044,
          0.43010752688172044,
          0.4336917562724014,
          0.4336917562724014,
          0.43727598566308246,
          0.43727598566308246,
          0.44086021505376344,
          0.44086021505376344,
          0.4444444444444444,
          0.4444444444444444,
          0.44802867383512546,
          0.44802867383512546,
          0.4551971326164875,
          0.4551971326164875,
          0.45878136200716846,
          0.45878136200716846,
          0.4659498207885305,
          0.4659498207885305,
          0.46953405017921146,
          0.46953405017921146,
          0.4731182795698925,
          0.4731182795698925,
          0.4767025089605735,
          0.4767025089605735,
          0.48028673835125446,
          0.48028673835125446,
          0.4838709677419355,
          0.4838709677419355,
          0.4874551971326165,
          0.4874551971326165,
          0.4910394265232975,
          0.4910394265232975,
          0.4946236559139785,
          0.4946236559139785,
          0.4982078853046595,
          0.4982078853046595,
          0.5017921146953405,
          0.5017921146953405,
          0.5053763440860215,
          0.5053763440860215,
          0.5089605734767025,
          0.5089605734767025,
          0.5125448028673835,
          0.5125448028673835,
          0.5161290322580645,
          0.5161290322580645,
          0.5197132616487455,
          0.5197132616487455,
          0.5232974910394266,
          0.5232974910394266,
          0.5268817204301075,
          0.5268817204301075,
          0.5304659498207885,
          0.5304659498207885,
          0.5304659498207885,
          0.5304659498207885,
          0.5340501792114696,
          0.5340501792114696,
          0.5376344086021505,
          0.5376344086021505,
          0.5412186379928315,
          0.5412186379928315,
          0.5448028673835126,
          0.5448028673835126,
          0.5483870967741935,
          0.5483870967741935,
          0.5555555555555556,
          0.5555555555555556,
          0.5627240143369175,
          0.5627240143369175,
          0.5663082437275986,
          0.5663082437275986,
          0.5698924731182796,
          0.5698924731182796,
          0.5734767025089605,
          0.5734767025089605,
          0.5770609318996416,
          0.5770609318996416,
          0.5806451612903226,
          0.5806451612903226,
          0.5842293906810035,
          0.5842293906810035,
          0.5878136200716846,
          0.5878136200716846,
          0.5913978494623656,
          0.5913978494623656,
          0.5949820788530465,
          0.5949820788530465,
          0.5985663082437276,
          0.5985663082437276,
          0.6021505376344086,
          0.6021505376344086,
          0.6057347670250897,
          0.6057347670250897,
          0.6093189964157706,
          0.6093189964157706,
          0.6129032258064516,
          0.6129032258064516,
          0.6164874551971327,
          0.6164874551971327,
          0.6200716845878136,
          0.6200716845878136,
          0.6200716845878136,
          0.6200716845878136,
          0.6236559139784946,
          0.6236559139784946,
          0.6272401433691757,
          0.6272401433691757,
          0.6308243727598566,
          0.6308243727598566,
          0.6308243727598566,
          0.6308243727598566,
          0.6344086021505376,
          0.6344086021505376,
          0.6379928315412187,
          0.6379928315412187,
          0.6415770609318996,
          0.6415770609318996,
          0.6451612903225806,
          0.6451612903225806,
          0.6487455197132617,
          0.6487455197132617,
          0.6523297491039427,
          0.6523297491039427,
          0.6523297491039427,
          0.6523297491039427,
          0.6559139784946236,
          0.6559139784946236,
          0.6594982078853047,
          0.6594982078853047,
          0.6630824372759857,
          0.6630824372759857,
          0.6666666666666666,
          0.6666666666666666,
          0.6702508960573477,
          0.6702508960573477,
          0.6738351254480287,
          0.6738351254480287,
          0.6774193548387096,
          0.6774193548387096,
          0.6810035842293907,
          0.6810035842293907,
          0.6845878136200717,
          0.6845878136200717,
          0.6881720430107527,
          0.6881720430107527,
          0.6881720430107527,
          0.6953405017921147,
          0.6953405017921147,
          0.6989247311827957,
          0.6989247311827957,
          0.7025089605734767,
          0.7025089605734767,
          0.7060931899641577,
          0.7060931899641577,
          0.7096774193548387,
          0.7096774193548387,
          0.7132616487455197,
          0.7132616487455197,
          0.7168458781362007,
          0.7168458781362007,
          0.7240143369175627,
          0.7240143369175627,
          0.7275985663082437,
          0.7275985663082437,
          0.7311827956989247,
          0.7311827956989247,
          0.7347670250896058,
          0.7347670250896058,
          0.7347670250896058,
          0.7347670250896058,
          0.7383512544802867,
          0.7383512544802867,
          0.7491039426523297,
          0.7491039426523297,
          0.7491039426523297,
          0.7491039426523297,
          0.7562724014336918,
          0.7562724014336918,
          0.7598566308243727,
          0.7598566308243727,
          0.7670250896057348,
          0.7670250896057348,
          0.7706093189964157,
          0.7706093189964157,
          0.7777777777777778,
          0.7777777777777778,
          0.7849462365591398,
          0.7849462365591398,
          0.7885304659498208,
          0.7885304659498208,
          0.7956989247311828,
          0.7956989247311828,
          0.7992831541218638,
          0.7992831541218638,
          0.8028673835125448,
          0.8028673835125448,
          0.8064516129032258,
          0.8064516129032258,
          0.8100358422939068,
          0.8100358422939068,
          0.8172043010752689,
          0.8172043010752689,
          0.8207885304659498,
          0.8207885304659498,
          0.8243727598566308,
          0.8243727598566308,
          0.8279569892473119,
          0.8279569892473119,
          0.8315412186379928,
          0.8315412186379928,
          0.8351254480286738,
          0.8351254480286738,
          0.8387096774193549,
          0.8387096774193549,
          0.8422939068100358,
          0.8422939068100358,
          0.8422939068100358,
          0.8422939068100358,
          0.8458781362007168,
          0.8458781362007168,
          0.8494623655913979,
          0.8494623655913979,
          0.8530465949820788,
          0.8530465949820788,
          0.8566308243727598,
          0.8566308243727598,
          0.8637992831541219,
          0.8637992831541219,
          0.8673835125448028,
          0.8673835125448028,
          0.8709677419354839,
          0.8709677419354839,
          0.8781362007168458,
          0.8781362007168458,
          0.8817204301075269,
          0.8817204301075269,
          0.8888888888888888,
          0.8888888888888888,
          0.8924731182795699,
          0.8924731182795699,
          0.8960573476702509,
          0.8960573476702509,
          0.899641577060932,
          0.899641577060932,
          0.9032258064516129,
          0.9032258064516129,
          0.9068100358422939,
          0.9068100358422939,
          0.910394265232975,
          0.910394265232975,
          0.9175627240143369,
          0.9175627240143369,
          0.921146953405018,
          0.921146953405018,
          0.921146953405018,
          0.921146953405018,
          0.9283154121863799,
          0.9283154121863799,
          0.931899641577061,
          0.931899641577061,
          0.9390681003584229,
          0.9390681003584229,
          0.9390681003584229,
          0.9390681003584229,
          0.942652329749104,
          0.942652329749104,
          0.942652329749104,
          0.942652329749104,
          0.946236559139785,
          0.946236559139785,
          0.9498207885304659,
          0.9498207885304659,
          0.953405017921147,
          0.953405017921147,
          0.956989247311828,
          0.956989247311828,
          0.9605734767025089,
          0.9605734767025089,
          0.96415770609319,
          0.96415770609319,
          0.967741935483871,
          0.967741935483871,
          0.9713261648745519,
          0.9713261648745519,
          0.9713261648745519,
          0.9713261648745519,
          0.974910394265233,
          0.974910394265233,
          0.982078853046595,
          0.982078853046595,
          0.985663082437276,
          0.985663082437276,
          0.989247311827957,
          0.989247311827957,
          0.992831541218638,
          0.992831541218638,
          0.996415770609319,
          0.996415770609319,
          1,
          1,
          1,
          1,
          1,
          1,
          1
         ]
        },
        {
         "line": {
          "dash": "dash"
         },
         "mode": "lines",
         "name": "Random Classifier",
         "type": "scatter",
         "x": [
          0,
          1
         ],
         "y": [
          0,
          1
         ]
        }
       ],
       "layout": {
        "legend": {
         "x": 0.7,
         "y": 0.1
        },
        "template": {
         "data": {
          "bar": [
           {
            "error_x": {
             "color": "#2a3f5f"
            },
            "error_y": {
             "color": "#2a3f5f"
            },
            "marker": {
             "line": {
              "color": "#E5ECF6",
              "width": 0.5
             },
             "pattern": {
              "fillmode": "overlay",
              "size": 10,
              "solidity": 0.2
             }
            },
            "type": "bar"
           }
          ],
          "barpolar": [
           {
            "marker": {
             "line": {
              "color": "#E5ECF6",
              "width": 0.5
             },
             "pattern": {
              "fillmode": "overlay",
              "size": 10,
              "solidity": 0.2
             }
            },
            "type": "barpolar"
           }
          ],
          "carpet": [
           {
            "aaxis": {
             "endlinecolor": "#2a3f5f",
             "gridcolor": "white",
             "linecolor": "white",
             "minorgridcolor": "white",
             "startlinecolor": "#2a3f5f"
            },
            "baxis": {
             "endlinecolor": "#2a3f5f",
             "gridcolor": "white",
             "linecolor": "white",
             "minorgridcolor": "white",
             "startlinecolor": "#2a3f5f"
            },
            "type": "carpet"
           }
          ],
          "choropleth": [
           {
            "colorbar": {
             "outlinewidth": 0,
             "ticks": ""
            },
            "type": "choropleth"
           }
          ],
          "contour": [
           {
            "colorbar": {
             "outlinewidth": 0,
             "ticks": ""
            },
            "colorscale": [
             [
              0,
              "#0d0887"
             ],
             [
              0.1111111111111111,
              "#46039f"
             ],
             [
              0.2222222222222222,
              "#7201a8"
             ],
             [
              0.3333333333333333,
              "#9c179e"
             ],
             [
              0.4444444444444444,
              "#bd3786"
             ],
             [
              0.5555555555555556,
              "#d8576b"
             ],
             [
              0.6666666666666666,
              "#ed7953"
             ],
             [
              0.7777777777777778,
              "#fb9f3a"
             ],
             [
              0.8888888888888888,
              "#fdca26"
             ],
             [
              1,
              "#f0f921"
             ]
            ],
            "type": "contour"
           }
          ],
          "contourcarpet": [
           {
            "colorbar": {
             "outlinewidth": 0,
             "ticks": ""
            },
            "type": "contourcarpet"
           }
          ],
          "heatmap": [
           {
            "colorbar": {
             "outlinewidth": 0,
             "ticks": ""
            },
            "colorscale": [
             [
              0,
              "#0d0887"
             ],
             [
              0.1111111111111111,
              "#46039f"
             ],
             [
              0.2222222222222222,
              "#7201a8"
             ],
             [
              0.3333333333333333,
              "#9c179e"
             ],
             [
              0.4444444444444444,
              "#bd3786"
             ],
             [
              0.5555555555555556,
              "#d8576b"
             ],
             [
              0.6666666666666666,
              "#ed7953"
             ],
             [
              0.7777777777777778,
              "#fb9f3a"
             ],
             [
              0.8888888888888888,
              "#fdca26"
             ],
             [
              1,
              "#f0f921"
             ]
            ],
            "type": "heatmap"
           }
          ],
          "heatmapgl": [
           {
            "colorbar": {
             "outlinewidth": 0,
             "ticks": ""
            },
            "colorscale": [
             [
              0,
              "#0d0887"
             ],
             [
              0.1111111111111111,
              "#46039f"
             ],
             [
              0.2222222222222222,
              "#7201a8"
             ],
             [
              0.3333333333333333,
              "#9c179e"
             ],
             [
              0.4444444444444444,
              "#bd3786"
             ],
             [
              0.5555555555555556,
              "#d8576b"
             ],
             [
              0.6666666666666666,
              "#ed7953"
             ],
             [
              0.7777777777777778,
              "#fb9f3a"
             ],
             [
              0.8888888888888888,
              "#fdca26"
             ],
             [
              1,
              "#f0f921"
             ]
            ],
            "type": "heatmapgl"
           }
          ],
          "histogram": [
           {
            "marker": {
             "pattern": {
              "fillmode": "overlay",
              "size": 10,
              "solidity": 0.2
             }
            },
            "type": "histogram"
           }
          ],
          "histogram2d": [
           {
            "colorbar": {
             "outlinewidth": 0,
             "ticks": ""
            },
            "colorscale": [
             [
              0,
              "#0d0887"
             ],
             [
              0.1111111111111111,
              "#46039f"
             ],
             [
              0.2222222222222222,
              "#7201a8"
             ],
             [
              0.3333333333333333,
              "#9c179e"
             ],
             [
              0.4444444444444444,
              "#bd3786"
             ],
             [
              0.5555555555555556,
              "#d8576b"
             ],
             [
              0.6666666666666666,
              "#ed7953"
             ],
             [
              0.7777777777777778,
              "#fb9f3a"
             ],
             [
              0.8888888888888888,
              "#fdca26"
             ],
             [
              1,
              "#f0f921"
             ]
            ],
            "type": "histogram2d"
           }
          ],
          "histogram2dcontour": [
           {
            "colorbar": {
             "outlinewidth": 0,
             "ticks": ""
            },
            "colorscale": [
             [
              0,
              "#0d0887"
             ],
             [
              0.1111111111111111,
              "#46039f"
             ],
             [
              0.2222222222222222,
              "#7201a8"
             ],
             [
              0.3333333333333333,
              "#9c179e"
             ],
             [
              0.4444444444444444,
              "#bd3786"
             ],
             [
              0.5555555555555556,
              "#d8576b"
             ],
             [
              0.6666666666666666,
              "#ed7953"
             ],
             [
              0.7777777777777778,
              "#fb9f3a"
             ],
             [
              0.8888888888888888,
              "#fdca26"
             ],
             [
              1,
              "#f0f921"
             ]
            ],
            "type": "histogram2dcontour"
           }
          ],
          "mesh3d": [
           {
            "colorbar": {
             "outlinewidth": 0,
             "ticks": ""
            },
            "type": "mesh3d"
           }
          ],
          "parcoords": [
           {
            "line": {
             "colorbar": {
              "outlinewidth": 0,
              "ticks": ""
             }
            },
            "type": "parcoords"
           }
          ],
          "pie": [
           {
            "automargin": true,
            "type": "pie"
           }
          ],
          "scatter": [
           {
            "fillpattern": {
             "fillmode": "overlay",
             "size": 10,
             "solidity": 0.2
            },
            "type": "scatter"
           }
          ],
          "scatter3d": [
           {
            "line": {
             "colorbar": {
              "outlinewidth": 0,
              "ticks": ""
             }
            },
            "marker": {
             "colorbar": {
              "outlinewidth": 0,
              "ticks": ""
             }
            },
            "type": "scatter3d"
           }
          ],
          "scattercarpet": [
           {
            "marker": {
             "colorbar": {
              "outlinewidth": 0,
              "ticks": ""
             }
            },
            "type": "scattercarpet"
           }
          ],
          "scattergeo": [
           {
            "marker": {
             "colorbar": {
              "outlinewidth": 0,
              "ticks": ""
             }
            },
            "type": "scattergeo"
           }
          ],
          "scattergl": [
           {
            "marker": {
             "colorbar": {
              "outlinewidth": 0,
              "ticks": ""
             }
            },
            "type": "scattergl"
           }
          ],
          "scattermapbox": [
           {
            "marker": {
             "colorbar": {
              "outlinewidth": 0,
              "ticks": ""
             }
            },
            "type": "scattermapbox"
           }
          ],
          "scatterpolar": [
           {
            "marker": {
             "colorbar": {
              "outlinewidth": 0,
              "ticks": ""
             }
            },
            "type": "scatterpolar"
           }
          ],
          "scatterpolargl": [
           {
            "marker": {
             "colorbar": {
              "outlinewidth": 0,
              "ticks": ""
             }
            },
            "type": "scatterpolargl"
           }
          ],
          "scatterternary": [
           {
            "marker": {
             "colorbar": {
              "outlinewidth": 0,
              "ticks": ""
             }
            },
            "type": "scatterternary"
           }
          ],
          "surface": [
           {
            "colorbar": {
             "outlinewidth": 0,
             "ticks": ""
            },
            "colorscale": [
             [
              0,
              "#0d0887"
             ],
             [
              0.1111111111111111,
              "#46039f"
             ],
             [
              0.2222222222222222,
              "#7201a8"
             ],
             [
              0.3333333333333333,
              "#9c179e"
             ],
             [
              0.4444444444444444,
              "#bd3786"
             ],
             [
              0.5555555555555556,
              "#d8576b"
             ],
             [
              0.6666666666666666,
              "#ed7953"
             ],
             [
              0.7777777777777778,
              "#fb9f3a"
             ],
             [
              0.8888888888888888,
              "#fdca26"
             ],
             [
              1,
              "#f0f921"
             ]
            ],
            "type": "surface"
           }
          ],
          "table": [
           {
            "cells": {
             "fill": {
              "color": "#EBF0F8"
             },
             "line": {
              "color": "white"
             }
            },
            "header": {
             "fill": {
              "color": "#C8D4E3"
             },
             "line": {
              "color": "white"
             }
            },
            "type": "table"
           }
          ]
         },
         "layout": {
          "annotationdefaults": {
           "arrowcolor": "#2a3f5f",
           "arrowhead": 0,
           "arrowwidth": 1
          },
          "autotypenumbers": "strict",
          "coloraxis": {
           "colorbar": {
            "outlinewidth": 0,
            "ticks": ""
           }
          },
          "colorscale": {
           "diverging": [
            [
             0,
             "#8e0152"
            ],
            [
             0.1,
             "#c51b7d"
            ],
            [
             0.2,
             "#de77ae"
            ],
            [
             0.3,
             "#f1b6da"
            ],
            [
             0.4,
             "#fde0ef"
            ],
            [
             0.5,
             "#f7f7f7"
            ],
            [
             0.6,
             "#e6f5d0"
            ],
            [
             0.7,
             "#b8e186"
            ],
            [
             0.8,
             "#7fbc41"
            ],
            [
             0.9,
             "#4d9221"
            ],
            [
             1,
             "#276419"
            ]
           ],
           "sequential": [
            [
             0,
             "#0d0887"
            ],
            [
             0.1111111111111111,
             "#46039f"
            ],
            [
             0.2222222222222222,
             "#7201a8"
            ],
            [
             0.3333333333333333,
             "#9c179e"
            ],
            [
             0.4444444444444444,
             "#bd3786"
            ],
            [
             0.5555555555555556,
             "#d8576b"
            ],
            [
             0.6666666666666666,
             "#ed7953"
            ],
            [
             0.7777777777777778,
             "#fb9f3a"
            ],
            [
             0.8888888888888888,
             "#fdca26"
            ],
            [
             1,
             "#f0f921"
            ]
           ],
           "sequentialminus": [
            [
             0,
             "#0d0887"
            ],
            [
             0.1111111111111111,
             "#46039f"
            ],
            [
             0.2222222222222222,
             "#7201a8"
            ],
            [
             0.3333333333333333,
             "#9c179e"
            ],
            [
             0.4444444444444444,
             "#bd3786"
            ],
            [
             0.5555555555555556,
             "#d8576b"
            ],
            [
             0.6666666666666666,
             "#ed7953"
            ],
            [
             0.7777777777777778,
             "#fb9f3a"
            ],
            [
             0.8888888888888888,
             "#fdca26"
            ],
            [
             1,
             "#f0f921"
            ]
           ]
          },
          "colorway": [
           "#636efa",
           "#EF553B",
           "#00cc96",
           "#ab63fa",
           "#FFA15A",
           "#19d3f3",
           "#FF6692",
           "#B6E880",
           "#FF97FF",
           "#FECB52"
          ],
          "font": {
           "color": "#2a3f5f"
          },
          "geo": {
           "bgcolor": "white",
           "lakecolor": "white",
           "landcolor": "#E5ECF6",
           "showlakes": true,
           "showland": true,
           "subunitcolor": "white"
          },
          "hoverlabel": {
           "align": "left"
          },
          "hovermode": "closest",
          "mapbox": {
           "style": "light"
          },
          "paper_bgcolor": "white",
          "plot_bgcolor": "#E5ECF6",
          "polar": {
           "angularaxis": {
            "gridcolor": "white",
            "linecolor": "white",
            "ticks": ""
           },
           "bgcolor": "#E5ECF6",
           "radialaxis": {
            "gridcolor": "white",
            "linecolor": "white",
            "ticks": ""
           }
          },
          "scene": {
           "xaxis": {
            "backgroundcolor": "#E5ECF6",
            "gridcolor": "white",
            "gridwidth": 2,
            "linecolor": "white",
            "showbackground": true,
            "ticks": "",
            "zerolinecolor": "white"
           },
           "yaxis": {
            "backgroundcolor": "#E5ECF6",
            "gridcolor": "white",
            "gridwidth": 2,
            "linecolor": "white",
            "showbackground": true,
            "ticks": "",
            "zerolinecolor": "white"
           },
           "zaxis": {
            "backgroundcolor": "#E5ECF6",
            "gridcolor": "white",
            "gridwidth": 2,
            "linecolor": "white",
            "showbackground": true,
            "ticks": "",
            "zerolinecolor": "white"
           }
          },
          "shapedefaults": {
           "line": {
            "color": "#2a3f5f"
           }
          },
          "ternary": {
           "aaxis": {
            "gridcolor": "white",
            "linecolor": "white",
            "ticks": ""
           },
           "baxis": {
            "gridcolor": "white",
            "linecolor": "white",
            "ticks": ""
           },
           "bgcolor": "#E5ECF6",
           "caxis": {
            "gridcolor": "white",
            "linecolor": "white",
            "ticks": ""
           }
          },
          "title": {
           "x": 0.05
          },
          "xaxis": {
           "automargin": true,
           "gridcolor": "white",
           "linecolor": "white",
           "ticks": "",
           "title": {
            "standoff": 15
           },
           "zerolinecolor": "white",
           "zerolinewidth": 2
          },
          "yaxis": {
           "automargin": true,
           "gridcolor": "white",
           "linecolor": "white",
           "ticks": "",
           "title": {
            "standoff": 15
           },
           "zerolinecolor": "white",
           "zerolinewidth": 2
          }
         }
        },
        "title": {
         "text": "Receiver Operating Characteristic (ROC) Curve"
        },
        "xaxis": {
         "constrain": "domain",
         "title": {
          "text": "False Positive Rate"
         }
        },
        "yaxis": {
         "scaleanchor": "x",
         "scaleratio": 1,
         "title": {
          "text": "True Positive Rate"
         }
        }
       }
      }
     },
     "metadata": {},
     "output_type": "display_data"
    }
   ],
   "source": [
    "fpr, tpr, thresholds = roc_curve(y_test, y_proba)\n",
    "fig = go.Figure()\n",
    "fig.add_trace(go.Scatter(x=fpr, y=tpr, mode='lines', name='ROC Curve'))\n",
    "fig.add_trace(go.Scatter(x=[0, 1], y=[0, 1], mode='lines', name='Random Classifier', line=dict(dash='dash')))\n",
    "\n",
    "fig.update_layout(\n",
    "    title='Receiver Operating Characteristic (ROC) Curve',\n",
    "    xaxis_title='False Positive Rate',\n",
    "    yaxis_title='True Positive Rate',\n",
    "    xaxis=dict(constrain='domain'),\n",
    "    yaxis=dict(scaleanchor='x', scaleratio=1),\n",
    "    legend=dict(x=0.7, y=0.1)\n",
    ")\n",
    "\n",
    "fig.show()"
   ]
  },
  {
   "cell_type": "markdown",
   "metadata": {},
   "source": [
    "<div class='alert alert-bloc alert-info'>As expected, selecting features through RFE did increase performances slightly. Additionally, it looks like the channel sales (as seen in the EDA) show remarkable predictive power.\n",
    "Although price difference between january and december (peak and mid) show predictive power, it is insufficient to conclude on its own, as it exhibits lower feature importance compared to the engineered features such as 'year' or the custom ratios that we made.</div>"
   ]
  }
 ],
 "metadata": {
  "interpreter": {
   "hash": "152bf6e7dc8ee53edb5af21dc1a8faeab7f134840808a94079ed98d91ece7e0c"
  },
  "kernelspec": {
   "display_name": "Python 3",
   "language": "python",
   "name": "python3"
  },
  "language_info": {
   "codemirror_mode": {
    "name": "ipython",
    "version": 3
   },
   "file_extension": ".py",
   "mimetype": "text/x-python",
   "name": "python",
   "nbconvert_exporter": "python",
   "pygments_lexer": "ipython3",
   "version": "3.11.7"
  }
 },
 "nbformat": 4,
 "nbformat_minor": 4
}
